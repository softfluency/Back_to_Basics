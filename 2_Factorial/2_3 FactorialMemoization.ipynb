{
  "cells": [
    {
      "cell_type": "markdown",
      "metadata": {},
      "source": [
        "# Memoization\n",
        "\n",
        "Memoization or memoisation is an optimization technique used primarily to speed up computer programs by storing the results of expensive function calls to pure functions and returning the cached result when the same inputs occur again.\n"
      ]
    },
    {
      "cell_type": "code",
      "execution_count": 23,
      "metadata": {
        "dotnet_interactive": {
          "language": "csharp"
        },
        "polyglot_notebook": {
          "kernelName": "csharp"
        },
        "vscode": {
          "languageId": "polyglot-notebook"
        }
      },
      "outputs": [],
      "source": [
        "var memo = new long[21];\n",
        "memo[0] = 1;\n",
        "\n",
        "long factorial(int n)\n",
        "{\n",
        "    if (memo[n] == 0) \n",
        "    {\n",
        "        Console.Write(\"🧮\");\n",
        "        var result = n * factorial(n - 1);\n",
        "        memo[n] = result;\n",
        "        return result;\n",
        "    }\n",
        "    else \n",
        "    {    \n",
        "        Console.Write(\"🪄\");\n",
        "        return memo[n];\n",
        "    }\n",
        "}"
      ]
    },
    {
      "cell_type": "code",
      "execution_count": 25,
      "metadata": {
        "dotnet_interactive": {
          "language": "csharp"
        },
        "polyglot_notebook": {
          "kernelName": "csharp"
        },
        "vscode": {
          "languageId": "polyglot-notebook"
        }
      },
      "outputs": [
        {
          "name": "stdout",
          "output_type": "stream",
          "text": [
            "🧮🪄\n",
            "720\n"
          ]
        }
      ],
      "source": [
        "var value = factorial(6);\n",
        "Console.WriteLine();\n",
        "Console.WriteLine(value);"
      ]
    },
    {
      "cell_type": "code",
      "execution_count": 26,
      "metadata": {
        "dotnet_interactive": {
          "language": "csharp"
        },
        "polyglot_notebook": {
          "kernelName": "csharp"
        },
        "vscode": {
          "languageId": "polyglot-notebook"
        }
      },
      "outputs": [],
      "source": [
        "public class FactorialClass {\n",
        "    private static readonly long[] memo = new long[21];\n",
        "    \n",
        "    public FactorialClass() \n",
        "    {\n",
        "        memo[0] = 1;\n",
        "    }\n",
        "\n",
        "    public long Calculate(int n)\n",
        "    {\n",
        "        if (memo[n] == 0) \n",
        "        {\n",
        "            Console.Write(\"🧮\");\n",
        "            return memo[n] = n * Calculate(n - 1);\n",
        "        }\n",
        "        else \n",
        "        {\n",
        "            return memo[n];\n",
        "        }\n",
        "    }    \n",
        "}\n",
        "\n"
      ]
    },
    {
      "cell_type": "code",
      "execution_count": 31,
      "metadata": {
        "dotnet_interactive": {
          "language": "csharp"
        },
        "polyglot_notebook": {
          "kernelName": "csharp"
        },
        "vscode": {
          "languageId": "polyglot-notebook"
        }
      },
      "outputs": [
        {
          "name": "stdout",
          "output_type": "stream",
          "text": [
            "2432902008176640000\n",
            "2432902008176640000\n"
          ]
        }
      ],
      "source": [
        "var f = new FactorialClass();\n",
        "Console.WriteLine(f.Calculate(20));\n",
        "\n",
        "var f1 = new FactorialClass();\n",
        "Console.WriteLine(f1.Calculate(20));"
      ]
    },
    {
      "cell_type": "code",
      "execution_count": 79,
      "metadata": {
        "dotnet_interactive": {
          "language": "csharp"
        },
        "polyglot_notebook": {
          "kernelName": "csharp"
        },
        "vscode": {
          "languageId": "polyglot-notebook"
        }
      },
      "outputs": [],
      "source": [
        "int b;\n",
        "var a = b = 5;\n"
      ]
    },
    {
      "cell_type": "code",
      "execution_count": 32,
      "metadata": {
        "dotnet_interactive": {
          "language": "csharp"
        },
        "polyglot_notebook": {
          "kernelName": "csharp"
        },
        "vscode": {
          "languageId": "polyglot-notebook"
        }
      },
      "outputs": [],
      "source": [
        "public interface IFactorialSequence\n",
        "{\n",
        "    IEnumerable<long> Calculate(int n);\n",
        "}"
      ]
    },
    {
      "cell_type": "code",
      "execution_count": 36,
      "metadata": {
        "dotnet_interactive": {
          "language": "csharp"
        },
        "polyglot_notebook": {
          "kernelName": "csharp"
        },
        "vscode": {
          "languageId": "polyglot-notebook"
        }
      },
      "outputs": [],
      "source": [
        "public class FactorialSeqM: IFactorialSequence\n",
        "{\n",
        "    private static long[] memo = new long[21];\n",
        "\n",
        "    public FactorialSeqM() \n",
        "    {\n",
        "        memo[0] = 1;\n",
        "    }\n",
        "    // Constructor\n",
        "    public IEnumerable<long> Calculate(int n = 20)\n",
        "    {   \n",
        "        if (memo[n] != 0) {       \n",
        "            Console.Write(\"🧮\");     \n",
        "            for(var i = 0; i <= n; i++)\n",
        "                yield return memo[i];\n",
        "        }\n",
        "        else \n",
        "        {            \n",
        "            foreach (var i in Calculate(n - 1)) \n",
        "                yield return i;\n",
        "\n",
        "            Console.Write(\"🧮\");\n",
        "            var value = n * Calculate(n - 1).Last();\n",
        "            memo[n] = value;\n",
        "            yield return value;\n",
        "        }        \n",
        "    }\n",
        "}\n",
        "\n"
      ]
    },
    {
      "cell_type": "code",
      "execution_count": 37,
      "metadata": {
        "dotnet_interactive": {
          "language": "csharp"
        },
        "polyglot_notebook": {
          "kernelName": "csharp"
        },
        "vscode": {
          "languageId": "polyglot-notebook"
        }
      },
      "outputs": [
        {
          "name": "stdout",
          "output_type": "stream",
          "text": [
            "\n",
            "🧮1 🧮🧮1 🧮🧮2 🧮🧮6 🧮🧮24 🧮🧮120 🧮🧮720 🧮🧮5040 🧮🧮40320 🧮🧮362880 🧮🧮3628800 🧮🧮39916800 🧮🧮479001600 \n",
            "\n",
            "🧮1 1 2 6 24 120 \n",
            "\n",
            "🧮1 1 2 6 24 120 "
          ]
        }
      ],
      "source": [
        "var factorialSeq = new FactorialSeqM();\n",
        "\n",
        "var seq1 = factorialSeq.Calculate(12);\n",
        "Console.WriteLine();\n",
        "foreach(var i in seq1) Console.Write($\"{i} \");\n",
        "\n",
        "Console.WriteLine();\n",
        "\n",
        "var seq2 = factorialSeq.Calculate(5);\n",
        "Console.WriteLine();\n",
        "foreach(var i in seq2) Console.Write($\"{i} \");\n",
        "    \n",
        "Console.WriteLine();\n",
        "\n",
        "var seq3 = factorialSeq.Calculate(12).Take(6);\n",
        "Console.WriteLine();\n",
        "foreach(var i in seq3) Console.Write($\"{i} \");\n"
      ]
    },
    {
      "cell_type": "code",
      "execution_count": 54,
      "metadata": {
        "dotnet_interactive": {
          "language": "csharp"
        },
        "polyglot_notebook": {
          "kernelName": "csharp"
        },
        "vscode": {
          "languageId": "polyglot-notebook"
        }
      },
      "outputs": [],
      "source": [
        "// https://trenki2.github.io/blog/2018/12/31/memoization-in-csharp/\n",
        "\n",
        "using System;\n",
        "using System.Collections.Generic;\n",
        "using System.Collections.Concurrent;\n",
        "\n",
        "public static class Memoizer\n",
        "{\n",
        "    public static Func<A, R> Memoize<A, R>(Func<A, R> func)\n",
        "    {\n",
        "      var cache = new Dictionary<A, R>();\n",
        "\n",
        "      return a =>\n",
        "      {\n",
        "        if (cache.TryGetValue(a, out R value)) \n",
        "        {\n",
        "          Console.WriteLine(\"Javi Mići\");\n",
        "          return value;\n",
        "        }\n",
        "          \n",
        "        value = func(a);\n",
        "        Console.WriteLine(\"🫡\");\n",
        "        cache.Add(a, value);\n",
        "        return value;\n",
        "      };\n",
        "    }  \n",
        "}\n",
        "\n",
        "public static Func<A, R> Memoize<A, R>(this Func<A, R> func)\n",
        "{\n",
        "  return Memoizer.Memoize(func);\n",
        "}\n",
        "\n",
        "public static Func<A, R> Memoize2<A, R>(Func<A, R> func)\n",
        "{\n",
        "  return Memoizer.Memoize(func);\n",
        "}\n",
        "  "
      ]
    },
    {
      "cell_type": "code",
      "execution_count": 55,
      "metadata": {
        "dotnet_interactive": {
          "language": "csharp"
        },
        "polyglot_notebook": {
          "kernelName": "csharp"
        },
        "vscode": {
          "languageId": "polyglot-notebook"
        }
      },
      "outputs": [
        {
          "name": "stdout",
          "output_type": "stream",
          "text": [
            "🧮🧮🧮🧮🫡\n",
            "120\n",
            "Javi Mići\n",
            "120\n",
            "🧮🧮🫡\n",
            "6\n",
            "Javi Mići\n",
            "6\n"
          ]
        }
      ],
      "source": [
        "long factorialRecursion(int n)\n",
        "{\n",
        "    if (n == 1)\n",
        "    {\n",
        "        return 1;\n",
        "    }\n",
        "    else \n",
        "    {\n",
        "        Console.Write(\"🧮\");\n",
        "        return n * factorialRecursion(n - 1);\n",
        "    }\n",
        "}\n",
        "\n",
        "// Console.WriteLine(factorialRecursion(3));\n",
        "\n",
        "Func<int, long> f = factorialRecursion;\n",
        "// Console.WriteLine(f(5));\n",
        "\n",
        "// var memoized = f.Memoize();\n",
        "var memoized = Memoize2((Func<int, long>)factorialRecursion);\n",
        "\n",
        "Console.WriteLine(memoized(5));\n",
        "Console.WriteLine(memoized(5));\n",
        "Console.WriteLine(memoized(3));\n",
        "Console.WriteLine(memoized(3));\n",
        "\n",
        "// var m = ((Func<int, long>) factorialRecursion).Memoize();\n",
        "\n"
      ]
    },
    {
      "cell_type": "code",
      "execution_count": 46,
      "metadata": {
        "dotnet_interactive": {
          "language": "csharp"
        },
        "polyglot_notebook": {
          "kernelName": "csharp"
        },
        "vscode": {
          "languageId": "polyglot-notebook"
        }
      },
      "outputs": [
        {
          "name": "stdout",
          "output_type": "stream",
          "text": [
            "🧮🧮🧮🧮120\n",
            "120\n",
            "6\n",
            "24\n",
            "2\n"
          ]
        }
      ],
      "source": [
        "Func<int, long> f;\n",
        "\n",
        "f = (int n) => {\n",
        "    if (n == 1)\n",
        "    {\n",
        "        return 1;\n",
        "    }\n",
        "    else \n",
        "    {\n",
        "        Console.Write(\"🧮\");\n",
        "        return n * mf(n - 1);\n",
        "    }    \n",
        "};\n",
        "\n",
        "var mf = f.Memoize();\n",
        "\n",
        "Console.WriteLine(mf(5));\n",
        "Console.WriteLine(mf(5));\n",
        "Console.WriteLine(mf(3));\n",
        "Console.WriteLine(mf(4));\n",
        "Console.WriteLine(mf(2));"
      ]
    }
  ],
  "metadata": {
    "kernelspec": {
      "display_name": ".NET (C#)",
      "language": "C#",
      "name": ".net-csharp"
    },
    "language_info": {
      "file_extension": ".cs",
      "mimetype": "text/x-csharp",
      "name": "C#",
      "pygments_lexer": "csharp",
      "version": "8.0"
    },
    "polyglot_notebook": {
      "kernelInfo": {
        "defaultKernelName": "csharp",
        "items": [
          {
            "aliases": [],
            "name": "csharp"
          }
        ]
      }
    }
  },
  "nbformat": 4,
  "nbformat_minor": 4
}
