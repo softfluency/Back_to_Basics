{
  "cells": [
    {
      "cell_type": "markdown",
      "metadata": {},
      "source": [
        "# Factorial\n",
        "\n",
        "### Description\n",
        "The factorial of a non-negative integer *n*, denoted by *n!*, is the product of all positive integers less than or equal to *n*. \n",
        "<pre>\n",
        "\t<code>n! = 1 * 2 * 3 * (n-2) * (n-1) * n</code>\n",
        "</pre>\n",
        "\n",
        "\n",
        "The factorial of *n* also equals the product of *n* with the next smaller factorial:\n",
        "<pre>\n",
        "\t<code>0! = 1</code>\n",
        "\t<code>n! = n * (n-1)!, n > 0</code>\n",
        "</pre>\n",
        "\n",
        "https://en.wikipedia.org/wiki/Factorial\n",
        "\n",
        "\n",
        "## Calculate n!\n",
        "\n",
        "<p>Given <code>n</code>, calculate <code>n!</code>.</p>\n",
        "<p><strong>Constraints:</strong></p>\n",
        "<ul>\n",
        "\t<li><code>0 &lt;= n &lt;= 20</code></li>\n",
        "</ul>\n",
        "\n",
        "<p>&nbsp;</p>\n",
        "<p><strong>Example 1:</strong></p>\n",
        "\n",
        "<pre>\n",
        "<strong>Input:</strong> n = 3\n",
        "<strong>Output:</strong> 6\n",
        "<strong>Explanation:</strong> <code>3! = 3 * 2! = 3 * 2 * 1 * 1! = 6</code>\n",
        "</pre>\n",
        "\n",
        "<p><strong>Example 2:</strong></p>\n",
        "\n",
        "<pre>\n",
        "<strong>Input:</strong> n = 20!\n",
        "<strong>Output:</strong> 2432902008176640000\n",
        "</pre>\n",
        "\n"
      ]
    },
    {
      "cell_type": "code",
      "execution_count": 39,
      "metadata": {
        "dotnet_interactive": {
          "language": "csharp"
        },
        "polyglot_notebook": {
          "kernelName": "csharp"
        },
        "vscode": {
          "languageId": "polyglot-notebook"
        }
      },
      "outputs": [
        {
          "name": "stdout",
          "output_type": "stream",
          "text": [
            "6\n",
            "1\n"
          ]
        }
      ],
      "source": [
        "int factorial1(int n) {\n",
        "    var f = 1;\n",
        "    for(var i = 2; i<=n; i++)     \n",
        "        f = f * i;   \n",
        "\n",
        "    return f;\n",
        "}\n",
        "\n",
        "Console.WriteLine(factorial1(3));\n",
        "Console.WriteLine(factorial1(-3));\n",
        "// test((i) => factorial1(i));"
      ]
    },
    {
      "cell_type": "code",
      "execution_count": 15,
      "metadata": {
        "dotnet_interactive": {
          "language": "csharp"
        },
        "polyglot_notebook": {
          "kernelName": "csharp"
        },
        "vscode": {
          "languageId": "polyglot-notebook"
        }
      },
      "outputs": [],
      "source": [
        "var expectedValues = new Dictionary<byte, long>() {{1, 1}, {2, 2}, {3, 6}, {10, 3628800}, {20, 2432902008176640000}};\n",
        "\n",
        "void test(Func<int, long> f) {    \n",
        "    foreach(var i in expectedValues.Keys) {\n",
        "        var expected = expectedValues[i];        \n",
        "        var actual = f(i);\n",
        "        var equals = expected == actual;\n",
        "        Console.WriteLine($\"{(equals ? '✅' : '❌')} n={i} n!={expected}; {actual}\");\n",
        "    }\n",
        "}"
      ]
    },
    {
      "cell_type": "code",
      "execution_count": 1,
      "metadata": {
        "dotnet_interactive": {
          "language": "csharp"
        },
        "polyglot_notebook": {
          "kernelName": "csharp"
        },
        "vscode": {
          "languageId": "polyglot-notebook"
        }
      },
      "outputs": [
        {
          "name": "stdout",
          "output_type": "stream",
          "text": [
            "-2! = 1\n",
            "20! = -3258495067890909184\n",
            "50! = -3258495067890909184\n",
            "1000! = 0\n",
            "10000! = 0\n"
          ]
        }
      ],
      "source": [
        "long factorial2(int n) {\n",
        "    long f = 1;\n",
        "    for(var i = 2; i<=n; i++)     \n",
        "        f *= i;\n",
        "    \n",
        "    return f;\n",
        "}\n",
        "\n",
        "\n",
        "Console.WriteLine($\"-2! = {factorial2(-2)}\");\n",
        "Console.WriteLine($\"20! = {factorial2(50)}\");\n",
        "Console.WriteLine($\"50! = {factorial2(50)}\");\n",
        "Console.WriteLine($\"1000! = {factorial2(1000)}\");\n",
        "Console.WriteLine($\"10000! = {factorial2(10000)}\");\n",
        "//test(factorial2);\n"
      ]
    },
    {
      "cell_type": "code",
      "execution_count": 26,
      "metadata": {
        "dotnet_interactive": {
          "language": "csharp"
        },
        "polyglot_notebook": {
          "kernelName": "csharp"
        },
        "vscode": {
          "languageId": "polyglot-notebook"
        }
      },
      "outputs": [
        {
          "name": "stdout",
          "output_type": "stream",
          "text": [
            "✅ n=1 n!=1; 1\n",
            "✅ n=2 n!=2; 2\n",
            "✅ n=3 n!=6; 6\n",
            "✅ n=10 n!=3628800; 3628800\n",
            "✅ n=20 n!=2432902008176640000; 2432902008176640000\n",
            "1\n"
          ]
        }
      ],
      "source": [
        "long factorial3(byte n) {\n",
        "    long f = 1;\n",
        "    while (n > 1) \n",
        "        f *= n--; \n",
        "    return f;\n",
        "}\n",
        "\n",
        "test(i => factorial3((byte)i));\n",
        "Console.WriteLine(factorial3(0));\n",
        "// Console.WriteLine(factorial3(-1));\n"
      ]
    },
    {
      "cell_type": "code",
      "execution_count": 6,
      "metadata": {
        "dotnet_interactive": {
          "language": "csharp"
        },
        "polyglot_notebook": {
          "kernelName": "csharp"
        },
        "vscode": {
          "languageId": "polyglot-notebook"
        }
      },
      "outputs": [
        {
          "name": "stdout",
          "output_type": "stream",
          "text": [
            "✅ n=1 n!=1; 1\n",
            "✅ n=2 n!=2; 2\n",
            "✅ n=3 n!=6; 6\n",
            "✅ n=10 n!=3628800; 3628800\n",
            "✅ n=20 n!=2432902008176640000; 2432902008176640000\n"
          ]
        },
        {
          "ename": "Error",
          "evalue": "System.ArgumentOutOfRangeException: Specified argument was out of the range of valid values. (Parameter 'n out of range')\r\n   at Submission#7.factorial4(Byte n)\r\n   at Submission#7.<<Initialize>>d__0.MoveNext()\r\n--- End of stack trace from previous location ---\r\n   at Microsoft.CodeAnalysis.Scripting.ScriptExecutionState.RunSubmissionsAsync[TResult](ImmutableArray`1 precedingExecutors, Func`2 currentExecutor, StrongBox`1 exceptionHolderOpt, Func`2 catchExceptionOpt, CancellationToken cancellationToken)",
          "output_type": "error",
          "traceback": [
            "System.ArgumentOutOfRangeException: Specified argument was out of the range of valid values. (Parameter 'n out of range')\r\n",
            "   at Submission#7.factorial4(Byte n)\r\n",
            "   at Submission#7.<<Initialize>>d__0.MoveNext()\r\n",
            "--- End of stack trace from previous location ---\r\n",
            "   at Microsoft.CodeAnalysis.Scripting.ScriptExecutionState.RunSubmissionsAsync[TResult](ImmutableArray`1 precedingExecutors, Func`2 currentExecutor, StrongBox`1 exceptionHolderOpt, Func`2 catchExceptionOpt, CancellationToken cancellationToken)"
          ]
        }
      ],
      "source": [
        "long factorial4(byte n) {\n",
        "    if (n > 20)\n",
        "        throw new ArgumentOutOfRangeException(\"n out of range\");\n",
        "\n",
        "    long f = 1;\n",
        "    while (n > 1) \n",
        "        f *= n--; \n",
        "    \n",
        "    return f;\n",
        "}\n",
        "\n",
        "test(i => factorial4((byte) i));\n",
        "\n",
        "Console.WriteLine(factorial4(30));"
      ]
    },
    {
      "cell_type": "code",
      "execution_count": 22,
      "metadata": {
        "dotnet_interactive": {
          "language": "csharp"
        },
        "polyglot_notebook": {
          "kernelName": "csharp"
        },
        "vscode": {
          "languageId": "polyglot-notebook"
        }
      },
      "outputs": [
        {
          "name": "stdout",
          "output_type": "stream",
          "text": [
            "✅ n=1 n!=1; 1\n",
            "✅ n=2 n!=2; 2\n",
            "✅ n=3 n!=6; 6\n",
            "✅ n=10 n!=3628800; 3628800\n",
            "✅ n=20 n!=2432902008176640000; 2432902008176640000\n",
            "40000! = 0\n"
          ]
        }
      ],
      "source": [
        "long factorialRecursion(int n)\n",
        "{\n",
        "    if (n == 1)\n",
        "        return 1;\n",
        "    else\n",
        "        return n * factorialRecursion(n - 1);\n",
        "}\n",
        "\n",
        "test(factorialRecursion);\n",
        "Console.WriteLine($\"40000! = {factorial2(40000)}\");"
      ]
    },
    {
      "cell_type": "code",
      "execution_count": 27,
      "metadata": {
        "dotnet_interactive": {
          "language": "csharp"
        },
        "polyglot_notebook": {
          "kernelName": "csharp"
        },
        "vscode": {
          "languageId": "polyglot-notebook"
        }
      },
      "outputs": [
        {
          "name": "stdout",
          "output_type": "stream",
          "text": [
            "4\n",
            "50\n",
            "50\n"
          ]
        }
      ],
      "source": [
        "int Average(int a, int b) \n",
        "{\n",
        "    return (a + b) / 2;\n",
        "}\n",
        "\n",
        "Console.WriteLine(Average(2, 6));\n",
        "Console.WriteLine(Average(100, 1));\n",
        "Console.WriteLine(Average(1, 100));"
      ]
    },
    {
      "cell_type": "code",
      "execution_count": 30,
      "metadata": {
        "dotnet_interactive": {
          "language": "csharp"
        },
        "polyglot_notebook": {
          "kernelName": "csharp"
        },
        "vscode": {
          "languageId": "polyglot-notebook"
        }
      },
      "outputs": [
        {
          "name": "stdout",
          "output_type": "stream",
          "text": [
            "2147483640\n",
            "2147483645\n",
            "-5\n"
          ]
        }
      ],
      "source": [
        "var a = int.MaxValue - 7;\n",
        "var b = int.MaxValue - 2;\n",
        "Console.WriteLine(a);\n",
        "Console.WriteLine(b);\n",
        "Console.WriteLine(Average(a, b));\n"
      ]
    },
    {
      "cell_type": "code",
      "execution_count": 49,
      "metadata": {
        "dotnet_interactive": {
          "language": "csharp"
        },
        "polyglot_notebook": {
          "kernelName": "csharp"
        },
        "vscode": {
          "languageId": "polyglot-notebook"
        }
      },
      "outputs": [
        {
          "name": "stdout",
          "output_type": "stream",
          "text": [
            "2147483640\n",
            "2147483645\n",
            "2147483642\n"
          ]
        }
      ],
      "source": [
        "int Average2(int a, int b)\n",
        "{\n",
        "    return (a / 2) + (b / 2) +\n",
        "           ((a % 2 + b % 2) / 2);\n",
        "}\n",
        "\n",
        "var a = int.MaxValue - 7;\n",
        "var b = int.MaxValue - 2;\n",
        "Console.WriteLine(a);\n",
        "Console.WriteLine(b);\n",
        "Console.WriteLine(Average2(a, b));"
      ]
    },
    {
      "cell_type": "code",
      "execution_count": 50,
      "metadata": {
        "dotnet_interactive": {
          "language": "csharp"
        },
        "polyglot_notebook": {
          "kernelName": "csharp"
        },
        "vscode": {
          "languageId": "polyglot-notebook"
        }
      },
      "outputs": [],
      "source": [
        "int Average3(int a, int b) \n",
        "{    \n",
        "    if (a > b) \n",
        "        b = a;\n",
        "    return a + (b - a) / 2;\n",
        "}"
      ]
    },
    {
      "cell_type": "code",
      "execution_count": 51,
      "metadata": {
        "dotnet_interactive": {
          "language": "csharp"
        },
        "polyglot_notebook": {
          "kernelName": "csharp"
        },
        "vscode": {
          "languageId": "polyglot-notebook"
        }
      },
      "outputs": [
        {
          "name": "stdout",
          "output_type": "stream",
          "text": [
            "2147483640\n",
            "2147483645\n",
            "2147483642\n"
          ]
        }
      ],
      "source": [
        "var a = int.MaxValue - 7;\n",
        "var b = int.MaxValue - 2;\n",
        "Console.WriteLine(a);\n",
        "Console.WriteLine(b);\n",
        "Console.WriteLine(Average3(a, b));"
      ]
    },
    {
      "cell_type": "code",
      "execution_count": 5,
      "metadata": {
        "dotnet_interactive": {
          "language": "fsharp"
        },
        "polyglot_notebook": {
          "kernelName": "fsharp"
        },
        "vscode": {
          "languageId": "polyglot-notebook"
        }
      },
      "outputs": [
        {
          "name": "stdout",
          "output_type": "stream",
          "text": [
            "6\n",
            "3628800\n",
            "0\n"
          ]
        }
      ],
      "source": [
        "let rec f n =\n",
        "    match n with\n",
        "    | 0 | 1 -> 1\n",
        "    | _ -> n * f(n-1)\n",
        "\n",
        "f(3) |> printfn \"%d\" \n",
        "f(10) |> printfn \"%d\" \n",
        "f(10000) |> printfn \"%d\""
      ]
    },
    {
      "cell_type": "code",
      "execution_count": 9,
      "metadata": {
        "dotnet_interactive": {
          "language": "fsharp"
        },
        "polyglot_notebook": {
          "kernelName": "fsharp"
        },
        "vscode": {
          "languageId": "polyglot-notebook"
        }
      },
      "outputs": [
        {
          "data": {
            "text/html": [
              "<div class=\"dni-plaintext\"><pre>120</pre></div><style>\r\n",
              ".dni-code-hint {\r\n",
              "    font-style: italic;\r\n",
              "    overflow: hidden;\r\n",
              "    white-space: nowrap;\r\n",
              "}\r\n",
              ".dni-treeview {\r\n",
              "    white-space: nowrap;\r\n",
              "}\r\n",
              ".dni-treeview td {\r\n",
              "    vertical-align: top;\r\n",
              "    text-align: start;\r\n",
              "}\r\n",
              "details.dni-treeview {\r\n",
              "    padding-left: 1em;\r\n",
              "}\r\n",
              "table td {\r\n",
              "    text-align: start;\r\n",
              "}\r\n",
              "table tr { \r\n",
              "    vertical-align: top; \r\n",
              "    margin: 0em 0px;\r\n",
              "}\r\n",
              "table tr td pre \r\n",
              "{ \r\n",
              "    vertical-align: top !important; \r\n",
              "    margin: 0em 0px !important;\r\n",
              "} \r\n",
              "table th {\r\n",
              "    text-align: start;\r\n",
              "}\r\n",
              "</style>"
            ]
          },
          "metadata": {},
          "output_type": "display_data"
        }
      ],
      "source": [
        "let (!) n = f n\n",
        "\n",
        "!5\n"
      ]
    }
  ],
  "metadata": {
    "kernelspec": {
      "display_name": ".NET (C#)",
      "language": "C#",
      "name": ".net-csharp"
    },
    "language_info": {
      "file_extension": ".cs",
      "mimetype": "text/x-csharp",
      "name": "C#",
      "pygments_lexer": "csharp",
      "version": "8.0"
    },
    "polyglot_notebook": {
      "kernelInfo": {
        "defaultKernelName": "csharp",
        "items": [
          {
            "aliases": [],
            "name": "csharp"
          }
        ]
      }
    }
  },
  "nbformat": 4,
  "nbformat_minor": 4
}
