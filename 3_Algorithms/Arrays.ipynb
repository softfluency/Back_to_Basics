{
 "cells": [
  {
   "cell_type": "code",
   "execution_count": 6,
   "metadata": {
    "dotnet_interactive": {
     "language": "csharp"
    },
    "polyglot_notebook": {
     "kernelName": "csharp"
    },
    "vscode": {
     "languageId": "polyglot-notebook"
    }
   },
   "outputs": [
    {
     "name": "stdout",
     "output_type": "stream",
     "text": [
      "Inversion count: 3\n",
      "Inversion count: 0\n",
      "Inversion count: 494\n"
     ]
    }
   ],
   "source": [
    "public int inversionCount(int[] arr)\n",
    "{     \n",
    "    var icount = 0;\n",
    "    for(var i = 0; i < arr.Length - 1; i++)\n",
    "        for(var j = i + 1; j < arr.Length; j++)\n",
    "            if (arr[i] > arr[j] )\n",
    "                icount++;\n",
    "\n",
    "    return icount;\n",
    "}\n",
    "\n",
    "\n",
    "var arr1 = new int[] {2, 4, 1, 3, 5};\n",
    "var res1 = inversionCount(arr1);\n",
    "Console.WriteLine($\"Inversion count: {res1}\");\n",
    "\n",
    "var arr2 = new int[] {2, 3, 4, 5, 6};\n",
    "var res2 = inversionCount(arr2);\n",
    "Console.WriteLine($\"Inversion count: {res2}\");\n",
    "\n",
    "\n",
    "// 42\n",
    "var arr3 = new int[] { 468,335,1,170,225,479,359,463,465,206,146,282,328,462,492,496,443,328,437,392,105,403,154,293,383,422,217,219,396,448,227,272,39,370,413,168,300,36,395,204,312,323 };\n",
    "var res3 = inversionCount(arr3);\n",
    "Console.WriteLine($\"Inversion count: {res3}\");\n",
    "\n",
    "\n",
    "\n"
   ]
  },
  {
   "cell_type": "code",
   "execution_count": 9,
   "metadata": {
    "dotnet_interactive": {
     "language": "csharp"
    },
    "polyglot_notebook": {
     "kernelName": "csharp"
    },
    "vscode": {
     "languageId": "polyglot-notebook"
    }
   },
   "outputs": [
    {
     "name": "stdout",
     "output_type": "stream",
     "text": [
      "Missing number: 9\r\n"
     ]
    }
   ],
   "source": [
    "public int missingNumber(int[] arr)\n",
    "{\n",
    "    return (arr.Length + 2) * (arr.Length + 1) / 2 - arr.Sum();\n",
    "}\n",
    "\n",
    "var arr1 = new int[] {6, 1, 2, 8, 3, 4, 7, 10, 5};\n",
    "var res1 = missingNumber(arr1);\n",
    "Console.WriteLine($\"Missing number: {res1}\");\n",
    "\n"
   ]
  }
 ],
 "metadata": {
  "language_info": {
   "name": "csharp"
  }
 },
 "nbformat": 4,
 "nbformat_minor": 2
}
