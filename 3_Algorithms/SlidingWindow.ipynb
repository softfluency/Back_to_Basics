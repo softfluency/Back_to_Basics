{
 "cells": [
  {
   "cell_type": "code",
   "execution_count": 8,
   "metadata": {
    "dotnet_interactive": {
     "language": "csharp"
    },
    "polyglot_notebook": {
     "kernelName": "csharp"
    },
    "vscode": {
     "languageId": "polyglot-notebook"
    }
   },
   "outputs": [
    {
     "name": "stdout",
     "output_type": "stream",
     "text": [
      "2 4\n",
      "3 5\n"
     ]
    }
   ],
   "source": [
    "public List<int> subarraySum(int[] arr, int n, int s)\n",
    "{\n",
    "    var sum = arr[0];\n",
    "    var start = 0;\n",
    "    var i = 1;\n",
    "    while (i <= n)\n",
    "    {\n",
    "        while (sum > s && start < i - 1)\n",
    "        {\n",
    "            sum = sum - arr[start];\n",
    "            start += 1;\n",
    "        }\n",
    "\n",
    "        if (sum == s)     \n",
    "            return new List<int>() { start + 1, i };\n",
    "\n",
    "\n",
    "        if (i < n)\n",
    "            sum = sum + arr[i]; ;\n",
    "\n",
    "        i += 1;\n",
    "    }\n",
    "\n",
    "    return new List<int>() { -1 };\n",
    "}\n",
    "\n",
    "// 5 12\n",
    "// 1 2 3 7 5\n",
    "var arr1 = new int[] { 1, 2, 3, 7, 5 };\n",
    "var res1 = subarraySum(arr1, arr1.Length, 12);\n",
    "Console.WriteLine($\"{res1[0]} {res1[1]}\");\n",
    "\n",
    "\n",
    "// 10 15\n",
    "// 1 2 3 4 5 6 7 8 9 10\n",
    "var arr2 = new int[] { 1, 2, 3, 4, 5, 6, 7, 8, 9, 10 };\n",
    "var res2 = subarraySum(arr2, arr2.Length, 12);\n",
    "Console.WriteLine($\"{res2[0]} {res2[1]}\");\n"
   ]
  },
  {
   "cell_type": "code",
   "execution_count": 24,
   "metadata": {
    "dotnet_interactive": {
     "language": "csharp"
    },
    "polyglot_notebook": {
     "kernelName": "csharp"
    },
    "vscode": {
     "languageId": "polyglot-notebook"
    }
   },
   "outputs": [
    {
     "name": "stdout",
     "output_type": "stream",
     "text": [
      "15\n",
      "Starting index: 2\n"
     ]
    }
   ],
   "source": [
    "public int maximumSumSubarrayLen3(int[] arr)\n",
    "{        \n",
    "    if (arr.Length < 3) \n",
    "        return -1;\n",
    "\n",
    "    if (arr.Length == 3) \n",
    "        return 0;\n",
    "    \n",
    "    var i = 0; \n",
    "    var index = 0;   \n",
    "    var maxsum = arr[0] + arr[1] + arr[2];\n",
    "    var sum = maxsum;\n",
    "\n",
    "    while(i < arr.Length - 3) \n",
    "    {\n",
    "        sum = sum - arr[i] + arr[i+3];\n",
    "        i++;\n",
    "        if (maxsum <= sum)\n",
    "        {\n",
    "            maxsum = sum;\n",
    "            index = i;\n",
    "        }        \n",
    "    }\n",
    "\n",
    "    Console.WriteLine(maxsum);\n",
    "    return index;\n",
    "}\n",
    "\n",
    "var arr1 = new int[] { 1, 2, 3, 7, 5 };\n",
    "var res1 = maximumSumSubarrayLen3(arr1);\n",
    "Console.WriteLine($\"Starting index: {res1}\");\n",
    "\n",
    "\n"
   ]
  }
 ],
 "metadata": {
  "language_info": {
   "name": "csharp"
  }
 },
 "nbformat": 4,
 "nbformat_minor": 2
}
