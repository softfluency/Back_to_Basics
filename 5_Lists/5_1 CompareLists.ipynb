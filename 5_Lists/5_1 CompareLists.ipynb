{
  "cells": [
    {
      "cell_type": "markdown",
      "metadata": {},
      "source": [
        "# Compare Lists\n",
        "\n",
        "### Description\n",
        "Given two Singly Linked List of N and M nodes respectively. The task is to check whether two linked lists are identical or not. \n",
        "Two Linked Lists are identical when they have same data and with same arrangement too.\n",
        "\n",
        "## Example 1\n",
        "<pre>\n",
        "<strong>Input:</strong>\n",
        "LinkedList1: 1->2->3->4->5->6\n",
        "LinkedList2: 99->59->42->20\n",
        "<strong>Output:</strong> Not identical\n",
        "</pre>\n",
        "\n",
        "## Example 2\n",
        "<pre>\n",
        "<strong>Input:</strong>\n",
        "LinkedList1: 1->2->3->4->5\n",
        "LinkedList2: 1->2->3->4->5\n",
        "<strong>Output:</strong> Identical\n",
        "</pre>\n",
        "\n",
        "### Task\n",
        "\n",
        "The task is to complete the function areIdentical() which takes the head of both linked lists as arguments and returns True or False.\n",
        "\n",
        "### Constraints\n",
        "1 <= N <= 103\n",
        "\n",
        "<pre>\n",
        "<strong>Expected Time Complexity:</strong> O(N)\n",
        "<strong>Expected Auxilliary Space:</strong> O(1)\n",
        "</pre>\n",
        "\n",
        "https://www.geeksforgeeks.org/problems/identical-linked-lists/1?utm_source=geeksforgeeks&utm_medium=article_practice_tab&utm_campaign=article_practice_tab\n"
      ]
    },
    {
      "cell_type": "code",
      "execution_count": 1,
      "metadata": {
        "dotnet_interactive": {
          "language": "csharp"
        },
        "polyglot_notebook": {
          "kernelName": "csharp"
        },
        "vscode": {
          "languageId": "polyglot-notebook"
        }
      },
      "outputs": [
        {
          "name": "stdout",
          "output_type": "stream",
          "text": [
            "Not identical\n",
            "Not identical\n",
            "Identical\n"
          ]
        }
      ],
      "source": [
        "List<int> LinkedList1 = new() { 1, 2, 3, 4, 5, 6 };\n",
        "List<int> LinkedList2 = new() { 99, 59, 42, 20 };\n",
        "List<int> LinkedList3 = new() { 1, 59, 42, 20, 55, 55 };\n",
        "List<int> LinkedList4 = new() { 1, 2, 3, 4, 5, 6 };\n",
        "\n",
        "Console.WriteLine(AreIdentical(LinkedList1, LinkedList2) ? \"Identical\" : \"Not identical\");\n",
        "Console.WriteLine(AreIdentical(LinkedList1, LinkedList3) ? \"Identical\" : \"Not identical\");\n",
        "Console.WriteLine(AreIdentical(LinkedList1, LinkedList4) ? \"Identical\" : \"Not identical\");\n",
        "\n",
        "public bool AreIdentical(List<int> LinkedList1, List<int> LinkedList2)\n",
        "{\n",
        "    int Length1 = LinkedList1.Count;\n",
        "    int Length2 = LinkedList2.Count;\n",
        "\n",
        "    if(Length1 == Length2)\n",
        "    {\n",
        "        for(int i = 0; i < Length1; i++)\n",
        "        {\n",
        "            if(LinkedList1[i] == LinkedList2[i])\n",
        "            {\n",
        "                continue;\n",
        "            }\n",
        "            return  false;\n",
        "        }\n",
        "        return true;\n",
        "    }\n",
        "    else\n",
        "    {\n",
        "        return false;\n",
        "    }\n",
        "}"
      ]
    },
    {
      "cell_type": "code",
      "execution_count": 3,
      "metadata": {
        "dotnet_interactive": {
          "language": "csharp"
        },
        "polyglot_notebook": {
          "kernelName": "csharp"
        },
        "vscode": {
          "languageId": "polyglot-notebook"
        }
      },
      "outputs": [
        {
          "name": "stdout",
          "output_type": "stream",
          "text": [
            "Not identical by diferent lenghts\n",
            "Not identical by diferent elements on index 1\n",
            "Identical\n",
            "Not identical by diferent lenghts\n"
          ]
        }
      ],
      "source": [
        "//radi sa int listama, za liste razlicitog tipa podataka prijavljuje error\n",
        "\n",
        "List<int> LinkedList1 = new() { 1, 2, 3, 4, 5, 6 };\n",
        "List<int> LinkedList2 = new() { 99, 59, 42, 20 };\n",
        "List<int> LinkedList3 = new() { 1, 59, 42, 20, 55, 55 };\n",
        "List<int> LinkedList4 = new() { 1, 2, 3, 4, 5, 6 };\n",
        "//List<string> LinkedList5 = new() {\"Aca\",\"Beba\",\"Ceca\",\"Dana\",\"Emina\",\"Filip\"};\n",
        "//List<string> LinkedList6 = new() {\"Sima\", \"Vasa\"};\n",
        "string reason;\n",
        "\n",
        "Console.WriteLine(AreIdentical(LinkedList1, LinkedList2) ? \"Identical\" : \"Not identical by \" + reason);\n",
        "Console.WriteLine(AreIdentical(LinkedList1, LinkedList3) ? \"Identical\" : \"Not identical by \" + reason);\n",
        "Console.WriteLine(AreIdentical(LinkedList1, LinkedList4) ? \"Identical\" : \"Not identical by \" + reason);\n",
        "Console.WriteLine(AreIdentical(LinkedList2, LinkedList3) ? \"Identical\" : \"Not identical by \" + reason);\n",
        "//Console.WriteLine(AreIdentical(LinkedList5, LinkedList4) ? \"Identical\" : \"Not identical by \" + reason); \n",
        "public bool AreIdentical(List<int> LinkedList1, List<int> LinkedList2)\n",
        "{\n",
        "    //if ((LinkedList1.GetType())==LinkedList2.GetType())\n",
        "    // {\n",
        "        int Length1 = LinkedList1.Count;\n",
        "        int Length2 = LinkedList2.Count;\n",
        "        if (Length1==Length2)\n",
        "        {\n",
        "            for(int i=0;i<Length1;i++)\n",
        "            {\n",
        "                if(LinkedList1[i] == (LinkedList2[i]))\n",
        "                {\n",
        "                    continue;\n",
        "                }\n",
        "                else\n",
        "                {\n",
        "                    reason=\"diferent elements on index \" +  i.ToString();\n",
        "                    return false;\n",
        "                }\n",
        "            }\n",
        "            return true;\n",
        "        }\n",
        "        else\n",
        "        {\n",
        "            reason=\"diferent lenghts\";\n",
        "            return false;\n",
        "        }\n",
        "\n",
        "   // }\n",
        "   // else \n",
        "   /* {\n",
        "        reason=\"diferent types\";\n",
        "        return false;\n",
        "    }*/\n",
        "}\n"
      ]
    },
    {
      "cell_type": "code",
      "execution_count": 9,
      "metadata": {
        "dotnet_interactive": {
          "language": "csharp"
        },
        "polyglot_notebook": {
          "kernelName": "csharp"
        },
        "vscode": {
          "languageId": "polyglot-notebook"
        }
      },
      "outputs": [
        {
          "name": "stdout",
          "output_type": "stream",
          "text": [
            "Comparing list1\n",
            "1 2 3 4 5 6 \n",
            "With list2\n",
            "99 59 42 20 \n",
            "Expected is: False\n",
            "Actual is: False\n",
            "Test success!\n",
            "Comparing list1\n",
            "1 2 3 4 5 6 \n",
            "With list2\n",
            "1 59 42 20 55 55 \n",
            "Expected is: False\n",
            "Actual is: False\n",
            "Test success!\n",
            "Comparing list1\n",
            "1 2 3 4 5 6 \n",
            "With list2\n",
            "1 2 3 4 5 6 \n",
            "Expected is: True\n",
            "Actual is: True\n",
            "Test success!\n"
          ]
        }
      ],
      "source": [
        "List<int> LinkedList1 = new() { 1, 2, 3, 4, 5, 6 };\n",
        "List<int> LinkedList2 = new() { 99, 59, 42, 20 };\n",
        "List<int> LinkedList3 = new() { 1, 59, 42, 20, 55, 55 };\n",
        "List<int> LinkedList4 = new() { 1, 2, 3, 4, 5, 6 };\n",
        "\n",
        "public bool AreIdentical(List<int> LinkedList1, List<int> LinkedList2)\n",
        "{\n",
        "    int Length1 = LinkedList1.Count;\n",
        "    int Length2 = LinkedList2.Count;\n",
        "\n",
        "    if(Length1 == Length2)\n",
        "    {\n",
        "        for(int i = 0; i < Length1; i++)\n",
        "        {\n",
        "            if(LinkedList1[i] == LinkedList2[i])\n",
        "            {\n",
        "                continue;\n",
        "            }\n",
        "            return false;\n",
        "        }\n",
        "        return true;\n",
        "    }\n",
        "    else\n",
        "    {\n",
        "        return false;\n",
        "    }\n",
        "}\n",
        "\n",
        "void TestListComparison(List<int> list1, List<int> list2)\n",
        "{\n",
        "    bool expected = list1.SequenceEqual(list2);\n",
        "    bool actual = AreIdentical(list1,list2);\n",
        "\n",
        "    // actual je nasa metoda, a expected je iz frameworka\n",
        "    // Svoj primer iskopirati i poboljsati\n",
        "    // Iz java primera izvuci jedan (ili python)\n",
        "    Console.WriteLine($\"Comparing list1\");\n",
        "    foreach(int l1 in list1)\n",
        "        {\n",
        "            Console.Write(l1.ToString() + \" \");\n",
        "        }\n",
        "    Console.WriteLine();\n",
        "    Console.WriteLine($\"With list2\");\n",
        "    foreach(int l2 in list2)\n",
        "        {\n",
        "            Console.Write(l2.ToString() + \" \");\n",
        "        }\n",
        "    Console.WriteLine(); \n",
        "    Console.WriteLine(\"Expected is: \" + expected);\n",
        "    Console.WriteLine(\"Actual is: \" + actual);\n",
        "    Console.WriteLine($\"{(expected == actual ? \"Test success!\" : \"Test is not success!\")}\");\n",
        "}\n",
        "\n",
        "TestListComparison(LinkedList1, LinkedList2);\n",
        "TestListComparison(LinkedList1, LinkedList3);\n",
        "TestListComparison(LinkedList1, LinkedList4);\n"
      ]
    },
    {
      "cell_type": "code",
      "execution_count": 2,
      "metadata": {
        "dotnet_interactive": {
          "language": "csharp"
        },
        "polyglot_notebook": {
          "kernelName": "csharp"
        },
        "vscode": {
          "languageId": "polyglot-notebook"
        }
      },
      "outputs": [
        {
          "name": "stdout",
          "output_type": "stream",
          "text": [
            "Not identical\n",
            "Not identical\n",
            "Identical\n"
          ]
        }
      ],
      "source": [
        "List<int> LinkedList1 = new() { 1, 2, 3, 4, 5, 6 };\n",
        "List<int> LinkedList2 = new() { 99, 59, 42, 20 };\n",
        "List<int> LinkedList3 = new() { 1, 59, 42, 20, 55, 55 };\n",
        "List<int> LinkedList4 = new() { 1, 2, 3, 4, 5, 6 };\n",
        "\n",
        "Console.WriteLine(AreIdentical(LinkedList1, LinkedList2) ? \"Identical\" : \"Not identical\");\n",
        "Console.WriteLine(AreIdentical(LinkedList1, LinkedList3) ? \"Identical\" : \"Not identical\");\n",
        "Console.WriteLine(AreIdentical(LinkedList1, LinkedList4) ? \"Identical\" : \"Not identical\");\n",
        "\n",
        "public bool AreIdentical(List<int> LinkedList1, List<int> LinkedList2)\n",
        "{\n",
        "    int Length1 = LinkedList1.Count;\n",
        "    int Length2 = LinkedList2.Count;\n",
        "\n",
        "    if(Length1 != Length2)\n",
        "        return false;\n",
        "        \n",
        "    return LinkedList1.SequenceEqual(LinkedList2);\n",
        "}"
      ]
    },
    {
      "cell_type": "code",
      "execution_count": null,
      "metadata": {
        "dotnet_interactive": {
          "language": "csharp"
        },
        "polyglot_notebook": {
          "kernelName": "csharp"
        },
        "vscode": {
          "languageId": "polyglot-notebook"
        }
      },
      "outputs": [],
      "source": []
    },
    {
      "cell_type": "code",
      "execution_count": 3,
      "metadata": {
        "dotnet_interactive": {
          "language": "csharp"
        },
        "polyglot_notebook": {
          "kernelName": "csharp"
        },
        "vscode": {
          "languageId": "polyglot-notebook"
        }
      },
      "outputs": [
        {
          "name": "stdout",
          "output_type": "stream",
          "text": [
            "Not identical\n",
            "Not identical\n",
            "Identical\n"
          ]
        }
      ],
      "source": [
        "List<int> LinkedList1 = new() { 1, 2, 3, 4, 5, 6 };\n",
        "List<int> LinkedList2 = new() { 99, 59, 42, 20 };\n",
        "List<int> LinkedList3 = new() { 1, 59, 42, 20, 55, 55 };\n",
        "List<int> LinkedList4 = new() { 1, 2, 3, 4, 5, 6 };\n",
        "\n",
        "Console.WriteLine(AreIdentical(LinkedList1, LinkedList2) ? \"Identical\" : \"Not identical\");\n",
        "Console.WriteLine(AreIdentical(LinkedList1, LinkedList3) ? \"Identical\" : \"Not identical\");\n",
        "Console.WriteLine(AreIdentical(LinkedList1, LinkedList4) ? \"Identical\" : \"Not identical\");\n",
        "\n",
        "public bool AreIdentical(IEnumerable<int> LinkedList1, IEnumerable<int> LinkedList2) => LinkedList1.SequenceEqual(LinkedList2);"
      ]
    },
    {
      "cell_type": "code",
      "execution_count": 19,
      "metadata": {
        "dotnet_interactive": {
          "language": "csharp"
        },
        "polyglot_notebook": {
          "kernelName": "csharp"
        },
        "vscode": {
          "languageId": "polyglot-notebook"
        }
      },
      "outputs": [
        {
          "name": "stdout",
          "output_type": "stream",
          "text": [
            "Not identical by \n",
            "Not identical by \n",
            "Identical\n",
            "Not identical by diferent lenghts\n"
          ]
        }
      ],
      "source": [
        "List<int> LinkedList1 = new() { 1, 2, 3, 4, 5, 6 };\n",
        "List<int> LinkedList2 = new() { 99, 59, 42, 20 };\n",
        "List<int> LinkedList3 = new() { 1, 59, 42, 20, 55, 55 };\n",
        "List<int> LinkedList4 = new() { 1, 2, 3, 4, 5, 6 };\n",
        "List<string> LinkedList5 = new() {\"Aca\",\"Beba\",\"Ceca\",\"Dana\",\"Emina\",\"Filip\"};\n",
        "List<string> LinkedList6 = new() {\"Sima\", \"Vasa\"};\n",
        "string reason;\n",
        "\n",
        "Console.WriteLine(AreIdentical(LinkedList1, LinkedList2) ? \"Identical\" : \"Not identical by \" + reason);\n",
        "Console.WriteLine(AreIdentical(LinkedList1, LinkedList3) ? \"Identical\" : \"Not identical by \" + reason);\n",
        "Console.WriteLine(AreIdentical(LinkedList1, LinkedList4) ? \"Identical\" : \"Not identical by \" + reason);\n",
        "Console.WriteLine(AreIdentical(LinkedList6, LinkedList5) ? \"Identical\" : \"Not identical by \" + reason);\n",
        "//Console.WriteLine(AreIdentical(LinkedList1, LinkedList5) ? \"Identical\" : \"Not identical by \" + reason);\n",
        "\n",
        "\n",
        "bool AreIdentical(IEnumerable<Object> LinkedList1, IEnumerable<Object> LinkedList2)\n",
        "{\n",
        "    var list1Type=LinkedList1.GetType();\n",
        "    var list2Type=LinkedList2.GetType();\n",
        "    if(!(list1Type==list2Type))\n",
        "    {\n",
        "        reason=\"different types\";\n",
        "        return false;\n",
        "    }\n",
        "    int Lenght1=LinkedList1.Count();\n",
        "    int Lenght2=LinkedList2.Count();\n",
        "\n",
        "    if(Lenght1 == Lenght2)\n",
        "    {\n",
        "        for(int i=0;i<Lenght1; i++)\n",
        "        {\n",
        "            if(LinkedList1.ElementAt(i) == LinkedList2.ElementAt(i))\n",
        "            {\n",
        "                continue;\n",
        "            }\n",
        "            else\n",
        "            {\n",
        "                reason = \"different elements at index \";\n",
        "                return false;\n",
        "            }    \n",
        "        }\n",
        "        return true;\n",
        "    }\n",
        "    else\n",
        "    {\n",
        "        reason=\"diferent lenghts\";\n",
        "        return false;\n",
        "    }        \n",
        "}\n"
      ]
    }
  ],
  "metadata": {
    "kernelspec": {
      "display_name": ".NET (C#)",
      "language": "C#",
      "name": ".net-csharp"
    },
    "language_info": {
      "file_extension": ".cs",
      "mimetype": "text/x-csharp",
      "name": "C#",
      "pygments_lexer": "csharp",
      "version": "8.0"
    },
    "polyglot_notebook": {
      "kernelInfo": {
        "defaultKernelName": "csharp",
        "items": [
          {
            "aliases": [],
            "name": "csharp"
          }
        ]
      }
    }
  },
  "nbformat": 4,
  "nbformat_minor": 4
}
