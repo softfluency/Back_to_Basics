{
  "cells": [
    {
      "cell_type": "markdown",
      "metadata": {},
      "source": []
    },
    {
      "cell_type": "markdown",
      "metadata": {},
      "source": [
        "# Compare Lists\n",
        "\n",
        "### Description\n",
        "Given two Singly Linked List of N and M nodes respectively. The task is to check whether two linked lists are identical or not. \n",
        "Two Linked Lists are identical when they have same data and with same arrangement too.\n",
        "\n",
        "## Example 1\n",
        "<pre>\n",
        "<strong>Input:</strong>\n",
        "LinkedList1: 1->2->3->4->5->6\n",
        "LinkedList2: 99->59->42->20\n",
        "<strong>Output:</strong> Not identical\n",
        "</pre>\n",
        "\n",
        "## Example 2\n",
        "<pre>\n",
        "<strong>Input:</strong>\n",
        "LinkedList1: 1->2->3->4->5\n",
        "LinkedList2: 1->2->3->4->5\n",
        "<strong>Output:</strong> Identical\n",
        "</pre>\n",
        "\n",
        "### Task\n",
        "\n",
        "The task is to complete the function areIdentical() which takes the head of both linked lists as arguments and returns True or False.\n",
        "\n",
        "### Constraints\n",
        "1 <= N <= 103\n",
        "\n",
        "<pre>\n",
        "<strong>Expected Time Complexity:</strong> O(N)\n",
        "<strong>Expected Auxilliary Space:</strong> O(1)\n",
        "</pre>\n",
        "\n",
        "https://www.geeksforgeeks.org/problems/identical-linked-lists/1?utm_source=geeksforgeeks&utm_medium=article_practice_tab&utm_campaign=article_practice_tab\n"
      ]
    },
    {
      "cell_type": "code",
      "execution_count": 10,
      "metadata": {
        "dotnet_interactive": {
          "language": "csharp"
        },
        "polyglot_notebook": {
          "kernelName": "csharp"
        },
        "vscode": {
          "languageId": "polyglot-notebook"
        }
      },
      "outputs": [
        {
          "name": "stdout",
          "output_type": "stream",
          "text": [
            "Not identical\n",
            "Not identical\n",
            "Identical\n"
          ]
        }
      ],
      "source": [
        "List<int> LinkedList1 = new() { 1, 2, 3, 4, 5, 6 };\n",
        "List<int> LinkedList2 = new() { 99, 59, 42, 20 };\n",
        "List<int> LinkedList3 = new() { 1, 59, 42, 20, 55, 55 };\n",
        "List<int> LinkedList4 = new() { 1, 2, 3, 4, 5, 6 };\n",
        "\n",
        "Console.WriteLine(AreIdentical(LinkedList1, LinkedList2) ? \"Identical\" : \"Not identical\");\n",
        "Console.WriteLine(AreIdentical(LinkedList1, LinkedList3) ? \"Identical\" : \"Not identical\");\n",
        "Console.WriteLine(AreIdentical(LinkedList1, LinkedList4) ? \"Identical\" : \"Not identical\");\n",
        "\n",
        "public bool AreIdentical(List<int> LinkedList1, List<int> LinkedList2)\n",
        "{\n",
        "    int Length1 = LinkedList1.Count;\n",
        "    int Length2 = LinkedList2.Count;\n",
        "\n",
        "    if(Length1 != Length2)\n",
        "        return false;\n",
        "        \n",
        "    int i=0;\n",
        "\n",
        "    while(i<Length1 && LinkedList1[i] == LinkedList2[i]) i++;\n",
        "\n",
        "    return i==Length1;\n",
        "}\n",
        "\n"
      ]
    },
    {
      "cell_type": "code",
      "execution_count": 14,
      "metadata": {
        "dotnet_interactive": {
          "language": "csharp"
        },
        "polyglot_notebook": {
          "kernelName": "csharp"
        },
        "vscode": {
          "languageId": "polyglot-notebook"
        }
      },
      "outputs": [
        {
          "name": "stdout",
          "output_type": "stream",
          "text": [
            "Error: Different lenghts\n",
            "Error: Element at index 1\n",
            "True\n"
          ]
        }
      ],
      "source": [
        "#!import Result.cs\n",
        "\n",
        "public Result<bool> AreIdentical(List<int> LinkedList1, List<int> LinkedList2)\n",
        "{    \n",
        "    int Length1 = LinkedList1.Count;\n",
        "    int Length2 = LinkedList2.Count;\n",
        "\n",
        "    if (Length1 != Length2)\n",
        "        return Result<bool>.Failure(\"Different lenghts\");\n",
        "    \n",
        "    for (int i = 0; i < Length1; i++)\n",
        "        if (LinkedList1[i] != (LinkedList2[i]))\n",
        "           return Result<bool>.Failure($\"Element at index {i}\");\n",
        "\n",
        "    return Result<bool>.Success(true);\n",
        "}\n",
        "\n",
        "Console.WriteLine(AreIdentical(LinkedList1, LinkedList2));\n",
        "Console.WriteLine(AreIdentical(LinkedList1, LinkedList3));\n",
        "Console.WriteLine(AreIdentical(LinkedList1, LinkedList4));"
      ]
    },
    {
      "cell_type": "code",
      "execution_count": 8,
      "metadata": {
        "dotnet_interactive": {
          "language": "csharp"
        },
        "polyglot_notebook": {
          "kernelName": "csharp"
        },
        "vscode": {
          "languageId": "polyglot-notebook"
        }
      },
      "outputs": [
        {
          "name": "stdout",
          "output_type": "stream",
          "text": [
            "Not identical by diferent lenghts\n",
            "Not identical by diferent elements on index 1\n",
            "Identical\n",
            "Not identical by diferent lenghts\n",
            "Not identical by diferent lenghts\n",
            "Not identical by diferent elements on index 1\n"
          ]
        }
      ],
      "source": [
        "//radi sa int listama, za liste razlicitog tipa podataka prijavljuje error\n",
        "\n",
        "List<int> LinkedList1 = new() { 1, 2, 3, 4, 5, 6 };\n",
        "List<int> LinkedList2 = new() { 99, 59, 42, 20 };\n",
        "List<int> LinkedList3 = new() { 1, 59, 42, 20, 55, 55 };\n",
        "List<int> LinkedList4 = new() { 1, 2, 3, 4, 5, 6 };\n",
        "//List<string> LinkedList5 = new() {\"Aca\",\"Beba\",\"Ceca\",\"Dana\",\"Emina\",\"Filip\"};\n",
        "//List<string> LinkedList6 = new() {\"Sima\", \"Vasa\"};\n",
        "string reason;\n",
        "\n",
        "Console.WriteLine(AreIdentical(LinkedList1, LinkedList2) ? \"Identical\" : \"Not identical by \" + reason);\n",
        "Console.WriteLine(AreIdentical(LinkedList1, LinkedList3) ? \"Identical\" : \"Not identical by \" + reason);\n",
        "Console.WriteLine(AreIdentical(LinkedList1, LinkedList4) ? \"Identical\" : \"Not identical by \" + reason);\n",
        "Console.WriteLine(AreIdentical(LinkedList2, LinkedList3) ? \"Identical\" : \"Not identical by \" + reason);\n",
        "Console.WriteLine(AreIdentical(LinkedList2, LinkedList4) ? \"Identical\" : \"Not identical by \" + reason);\n",
        "Console.WriteLine(AreIdentical(LinkedList3, LinkedList4) ? \"Identical\" : \"Not identical by \" + reason);\n",
        "//Console.WriteLine(AreIdentical(LinkedList5, LinkedList4) ? \"Identical\" : \"Not identical by \" + reason); \n",
        "\n",
        "public bool AreIdentical(List<int> LinkedList1, List<int> LinkedList2)\n",
        "{\n",
        "    int Length1 = LinkedList1.Count;\n",
        "    int Length2 = LinkedList2.Count;\n",
        "\n",
        "    if (Length1 == Length2)\n",
        "    {\n",
        "        for(int i = 0; i < Length1; i++)\n",
        "        {\n",
        "            if(LinkedList1[i] == (LinkedList2[i]))\n",
        "            {\n",
        "                continue;\n",
        "            }\n",
        "            else\n",
        "            {\n",
        "                reason=\"diferent elements on index \" +  i.ToString();\n",
        "                return false;\n",
        "            }\n",
        "        }\n",
        "        return true;\n",
        "    }\n",
        "    else\n",
        "    {\n",
        "        reason=\"diferent lenghts\";\n",
        "        return false;\n",
        "    }    \n",
        "}\n"
      ]
    },
    {
      "cell_type": "code",
      "execution_count": 4,
      "metadata": {
        "dotnet_interactive": {
          "language": "csharp"
        },
        "polyglot_notebook": {
          "kernelName": "csharp"
        },
        "vscode": {
          "languageId": "polyglot-notebook"
        }
      },
      "outputs": [
        {
          "name": "stdout",
          "output_type": "stream",
          "text": [
            "Comparing list1\n",
            "1 2 3 4 5 6 \n",
            "With list2\n",
            "99 59 42 20 \n",
            "Expected is: False\n",
            "Actual is: False\n",
            "Test success!\n",
            "Comparing list1\n",
            "1 2 3 4 5 6 \n",
            "With list2\n",
            "1 59 42 20 55 55 \n",
            "Expected is: False\n",
            "Actual is: False\n",
            "Test success!\n",
            "Comparing list1\n",
            "1 2 3 4 5 6 \n",
            "With list2\n",
            "1 2 3 4 5 6 \n",
            "Expected is: True\n",
            "Actual is: True\n",
            "Test success!\n",
            "Comparing list1\n",
            "99 59 42 20 \n",
            "With list2\n",
            "1 59 42 20 55 55 \n",
            "Expected is: False\n",
            "Actual is: False\n",
            "Test success!\n",
            "Comparing list1\n",
            "99 59 42 20 \n",
            "With list2\n",
            "1 2 3 4 5 6 \n",
            "Expected is: False\n",
            "Actual is: False\n",
            "Test success!\n",
            "Comparing list1\n",
            "1 59 42 20 55 55 \n",
            "With list2\n",
            "1 2 3 4 5 6 \n",
            "Expected is: False\n",
            "Actual is: False\n",
            "Test success!\n"
          ]
        }
      ],
      "source": [
        "List<int> LinkedList1 = new() { 1, 2, 3, 4, 5, 6 };\n",
        "List<int> LinkedList2 = new() { 99, 59, 42, 20 };\n",
        "List<int> LinkedList3 = new() { 1, 59, 42, 20, 55, 55 };\n",
        "List<int> LinkedList4 = new() { 1, 2, 3, 4, 5, 6 };\n",
        "\n",
        "public bool AreIdentical(List<int> LinkedList1, List<int> LinkedList2)\n",
        "{\n",
        "    int Length1 = LinkedList1.Count;\n",
        "    int Length2 = LinkedList2.Count;\n",
        "\n",
        "    if(Length1 == Length2)\n",
        "    {\n",
        "        for(int i = 0; i < Length1; i++)\n",
        "        {\n",
        "            if(LinkedList1[i] == LinkedList2[i])\n",
        "            {\n",
        "                continue;\n",
        "            }\n",
        "            return false;\n",
        "        }\n",
        "        return true;\n",
        "    }\n",
        "    else\n",
        "    {\n",
        "        return false;\n",
        "    }\n",
        "}\n",
        "\n",
        "void TestListComparison(List<int> list1, List<int> list2)\n",
        "{\n",
        "    bool expected = list1.SequenceEqual(list2);\n",
        "    bool actual = AreIdentical(list1,list2);\n",
        "\n",
        "    // actual je nasa metoda, a expected je iz frameworka\n",
        "    // Svoj primer iskopirati i poboljsati\n",
        "    // Iz java primera izvuci jedan (ili python)\n",
        "    Console.WriteLine($\"Comparing list1\");\n",
        "    \n",
        "    foreach(int l1 in list1)\n",
        "    {\n",
        "        Console.Write(l1.ToString() + \" \");\n",
        "    }\n",
        "\n",
        "    Console.WriteLine();\n",
        "    Console.WriteLine($\"With list2\");\n",
        "\n",
        "    foreach(int l2 in list2)\n",
        "    {\n",
        "        Console.Write(l2.ToString() + \" \");\n",
        "    }\n",
        "\n",
        "    Console.WriteLine(); \n",
        "    Console.WriteLine(\"Expected is: \" + expected);\n",
        "    Console.WriteLine(\"Actual is: \" + actual);\n",
        "    Console.WriteLine($\"{(expected == actual ? \"Test success!\" : \"Test is not success!\")}\");\n",
        "}\n",
        "\n",
        "TestListComparison(LinkedList1, LinkedList2);\n",
        "TestListComparison(LinkedList1, LinkedList3);\n",
        "TestListComparison(LinkedList1, LinkedList4);\n",
        "TestListComparison(LinkedList2, LinkedList3);\n",
        "TestListComparison(LinkedList2, LinkedList4);\n",
        "TestListComparison(LinkedList3, LinkedList4);\n"
      ]
    },
    {
      "cell_type": "code",
      "execution_count": 2,
      "metadata": {
        "dotnet_interactive": {
          "language": "csharp"
        },
        "polyglot_notebook": {
          "kernelName": "csharp"
        },
        "vscode": {
          "languageId": "polyglot-notebook"
        }
      },
      "outputs": [
        {
          "name": "stdout",
          "output_type": "stream",
          "text": [
            "Not identical\n",
            "Not identical\n",
            "Identical\n"
          ]
        }
      ],
      "source": [
        "List<int> LinkedList1 = new() { 1, 2, 3, 4, 5, 6 };\n",
        "List<int> LinkedList2 = new() { 99, 59, 42, 20 };\n",
        "List<int> LinkedList3 = new() { 1, 59, 42, 20, 55, 55 };\n",
        "List<int> LinkedList4 = new() { 1, 2, 3, 4, 5, 6 };\n",
        "\n",
        "Console.WriteLine(AreIdentical(LinkedList1, LinkedList2) ? \"Identical\" : \"Not identical\");\n",
        "Console.WriteLine(AreIdentical(LinkedList1, LinkedList3) ? \"Identical\" : \"Not identical\");\n",
        "Console.WriteLine(AreIdentical(LinkedList1, LinkedList4) ? \"Identical\" : \"Not identical\");\n",
        "\n",
        "public bool AreIdentical(List<int> LinkedList1, List<int> LinkedList2)\n",
        "{\n",
        "    int Length1 = LinkedList1.Count;\n",
        "    int Length2 = LinkedList2.Count;\n",
        "\n",
        "    if(Length1 != Length2)\n",
        "        return false;\n",
        "        \n",
        "    return LinkedList1.SequenceEqual(LinkedList2);\n",
        "}"
      ]
    },
    {
      "cell_type": "code",
      "execution_count": null,
      "metadata": {
        "dotnet_interactive": {
          "language": "csharp"
        },
        "polyglot_notebook": {
          "kernelName": "csharp"
        },
        "vscode": {
          "languageId": "polyglot-notebook"
        }
      },
      "outputs": [],
      "source": []
    },
    {
      "cell_type": "code",
      "execution_count": 3,
      "metadata": {
        "dotnet_interactive": {
          "language": "csharp"
        },
        "polyglot_notebook": {
          "kernelName": "csharp"
        },
        "vscode": {
          "languageId": "polyglot-notebook"
        }
      },
      "outputs": [
        {
          "name": "stdout",
          "output_type": "stream",
          "text": [
            "Not identical\n",
            "Not identical\n",
            "Identical\n"
          ]
        }
      ],
      "source": [
        "List<int> LinkedList1 = new() { 1, 2, 3, 4, 5, 6 };\n",
        "List<int> LinkedList2 = new() { 99, 59, 42, 20 };\n",
        "List<int> LinkedList3 = new() { 1, 59, 42, 20, 55, 55 };\n",
        "List<int> LinkedList4 = new() { 1, 2, 3, 4, 5, 6 };\n",
        "\n",
        "Console.WriteLine(AreIdentical(LinkedList1, LinkedList2) ? \"Identical\" : \"Not identical\");\n",
        "Console.WriteLine(AreIdentical(LinkedList1, LinkedList3) ? \"Identical\" : \"Not identical\");\n",
        "Console.WriteLine(AreIdentical(LinkedList1, LinkedList4) ? \"Identical\" : \"Not identical\");\n",
        "\n",
        "public bool AreIdentical(IEnumerable<int> LinkedList1, IEnumerable<int> LinkedList2) => LinkedList1.SequenceEqual(LinkedList2);"
      ]
    },
    {
      "cell_type": "code",
      "execution_count": 14,
      "metadata": {
        "dotnet_interactive": {
          "language": "csharp"
        },
        "polyglot_notebook": {
          "kernelName": "csharp"
        },
        "vscode": {
          "languageId": "polyglot-notebook"
        }
      },
      "outputs": [
        {
          "name": "stdout",
          "output_type": "stream",
          "text": [
            "Not identical by \n",
            "Not identical by \n",
            "Identical\n",
            "Identical\n",
            "True\n"
          ]
        }
      ],
      "source": [
        "List<int> LinkedList1 = new() { 1, 2, 3, 4, 5, 6 };\n",
        "List<int> LinkedList2 = new() { 99, 59, 42, 20 };\n",
        "List<int> LinkedList3 = new() { 1, 59, 42, 20, 55, 55 };\n",
        "List<int> LinkedList4 = new() { 1, 2, 3, 4, 5, 6 };\n",
        "List<string> LinkedList5 = new() {\"Aca\",\"Beba\",\"Ceca\",\"Dana\",\"Emina\",\"Filip\"};\n",
        "List<string> LinkedList6 = new() {\"Sima\", \"Vasa\"};\n",
        "string reason=\"\";\n",
        "\n",
        "Console.WriteLine(AreIdentical(LinkedList1, LinkedList2) ? \"Identical\" : \"Not identical by \" + reason);\n",
        "Console.WriteLine(AreIdentical(LinkedList1, LinkedList3) ? \"Identical\" : \"Not identical by \" + reason);\n",
        "Console.WriteLine(AreIdentical(LinkedList1, LinkedList4) ? \"Identical\" : \"Not identical by \" + reason);\n",
        "Console.WriteLine(AreIdentical(LinkedList6, LinkedList5) ? \"Identical\" : \"Not identical by \" + reason);\n",
        "//Console.WriteLine(AreIdentical(LinkedList1, LinkedList5) ? \"Identical\" : \"Not identical by \" + reason);\n",
        "Console.WriteLine( AreIdentical<int>(LinkedList1, LinkedList2));\n",
        "bool AreIdentical<T>(List<T> list1, List<T> list2)\n",
        "{\n",
        "    return true;\n",
        "}\n",
        "bool AreIdentical(IEnumerable<Object> LinkedList1, IEnumerable<Object> LinkedList2)\n",
        "{\n",
        "     reason = \"\"; // Reset the reason variable\n",
        "    var list1Type=LinkedList1.GetType();\n",
        "    var list2Type=LinkedList2.GetType();\n",
        "    if(!(list1Type==list2Type))\n",
        "    {\n",
        "        reason=\"different types\";\n",
        "        return false;\n",
        "    }\n",
        "    \n",
        "    int Lenght1=LinkedList1.Count();\n",
        "    int Lenght2=LinkedList2.Count();\n",
        "    int minLenght=Math.Min(Lenght1,Lenght2);\n",
        "\n",
        "   // if(Lenght1 == Lenght2)\n",
        "    //{\n",
        "        for(int i=0;i<minLenght; i++)\n",
        "        {\n",
        "            if(LinkedList1.ElementAt(i) == LinkedList2.ElementAt(i))\n",
        "            {\n",
        "                continue;\n",
        "            }\n",
        "            else\n",
        "            {\n",
        "                reason = \"different elements at index \";\n",
        "                return false;\n",
        "            }    \n",
        "        }\n",
        "        return true;\n",
        "    //}\n",
        "    if(!(Lenght1==Lenght2))\n",
        "    {\n",
        "        reason=\"diferent lenghts\";        \n",
        "    }    \n",
        "    return true;    \n",
        "}\n"
      ]
    },
    {
      "cell_type": "code",
      "execution_count": 2,
      "metadata": {
        "dotnet_interactive": {
          "language": "csharp"
        },
        "polyglot_notebook": {
          "kernelName": "csharp"
        },
        "vscode": {
          "languageId": "polyglot-notebook"
        }
      },
      "outputs": [
        {
          "name": "stdout",
          "output_type": "stream",
          "text": [
            "Not identical by different lengths\n",
            "Not identical by different elements at index 1\n",
            "Identical\n",
            "Not identical by different lengths\n",
            "Not identical by different lengths\n",
            "Not identical by different elements at index 1\n"
          ]
        }
      ],
      "source": [
        "List<int> LinkedList1 = new() { 1, 2, 3, 4, 5, 6 };\n",
        "List<int> LinkedList2 = new() { 99, 59, 42, 20 };\n",
        "List<int> LinkedList3 = new() { 1, 59, 42, 20, 55, 55 };\n",
        "List<int> LinkedList4 = new() { 1, 2, 3, 4, 5, 6 };\n",
        "//List<string> LinkedList5 = new() {\"Aca\",\"Beba\",\"Ceca\",\"Dana\",\"Emina\",\"Filip\"};\n",
        "//List<string> LinkedList6 = new() {\"Sima\", \"Vasa\"};\n",
        "string reason=\"\";\n",
        "\n",
        "Console.WriteLine(AreIdentical(LinkedList1, LinkedList2) ? \"Identical\" : \"Not identical by \" + reason);\n",
        "Console.WriteLine(AreIdentical(LinkedList1, LinkedList3) ? \"Identical\" : \"Not identical by \" + reason);\n",
        "Console.WriteLine(AreIdentical(LinkedList1, LinkedList4) ? \"Identical\" : \"Not identical by \" + reason);\n",
        "Console.WriteLine(AreIdentical(LinkedList2, LinkedList3) ? \"Identical\" : \"Not identical by \" + reason);\n",
        "Console.WriteLine(AreIdentical(LinkedList2, LinkedList4) ? \"Identical\" : \"Not identical by \" + reason);\n",
        "Console.WriteLine(AreIdentical(LinkedList3, LinkedList4) ? \"Identical\" : \"Not identical by \" + reason);\n",
        "//Console.WriteLine(AreIdentical(LinkedList6, LinkedList5) ? \"Identical\" : \"Not identical by \" + reason);\n",
        "\n",
        "bool AreIdentical(List<int> LinkedList1, List<int> LinkedList2)\n",
        "{\n",
        "    reason = \"\"; // Reset the reason variable\n",
        "\n",
        "    var list1Type = LinkedList1.First().GetType();\n",
        "    var list2Type = LinkedList2.First().GetType();\n",
        "    if (!(list1Type == list2Type))\n",
        "    {\n",
        "        reason = \"different types\";\n",
        "        return false;\n",
        "    }\n",
        "    //List<object> ListObject1=LinkedList1.ToList<object>;\n",
        "    //IEnumerable<object> ListObject2=LinkedList2;\n",
        "    int length1 = LinkedList1.Count;\n",
        "    int length2 = LinkedList2.Count;\n",
        "    int minLength = Math.Min(length1, length2);\n",
        "    if (length1 != length2)\n",
        "      {\n",
        "        reason = \"different lengths\";\n",
        "        return false;\n",
        "     }\n",
        "    for (int i = 0; i < minLength; i++)\n",
        "    {\n",
        "        if (!(LinkedList1.ElementAt(i).Equals(LinkedList2.ElementAt(i))))\n",
        "        {\n",
        "            reason = \"different elements at index \" + i.ToString();  \n",
        "            return false;\n",
        "        }        \n",
        "    }\n",
        "\n",
        "    // Check for different lengths after checking common elements\n",
        "   \n",
        "    return true;\n",
        "}"
      ]
    },
    {
      "cell_type": "code",
      "execution_count": 1,
      "metadata": {
        "dotnet_interactive": {
          "language": "csharp"
        },
        "polyglot_notebook": {
          "kernelName": "csharp"
        },
        "vscode": {
          "languageId": "polyglot-notebook"
        }
      },
      "outputs": [
        {
          "name": "stdout",
          "output_type": "stream",
          "text": [
            "Not identical by length\n",
            "Not identical by elements\n",
            "Identical\n",
            "Not identical by length\n",
            "Not identical by elements\n"
          ]
        }
      ],
      "source": [
        "List<int> LinkedList1 = new() { 1, 2, 3, 4, 5, 6 };\n",
        "List<int> LinkedList2 = new() { 99, 59, 42, 20 };\n",
        "List<int> LinkedList3 = new() { 1, 59, 42, 20, 55, 55 };\n",
        "List<int> LinkedList4 = new() { 1, 2, 3, 4, 5, 6 };\n",
        "List<int> NewList = new();\n",
        "List<Result<List<int>>> Solution = new();\n",
        "\n",
        "// Console.WriteLine(AreIdentical(LinkedList1, LinkedList2) ? \"Identical\" : \"Not identical\");\n",
        "// Console.WriteLine(AreIdentical(LinkedList1, LinkedList3) ? \"Identical\" : \"Not identical\");\n",
        "// Console.WriteLine(AreIdentical(LinkedList1, LinkedList4) ? \"Identical\" : \"Not identical\");\n",
        "\n",
        "public class Result<T>\n",
        "{\n",
        "    public bool IsSuccess { get; set; }\n",
        "    public T Value { get; set; }\n",
        "    public string Error { get; set; }\n",
        "    public static Result<T> Success(T value) => new Result<T> { IsSuccess = true, Value = value };\n",
        "    public static Result<T> Failure(string error) => new Result<T> { IsSuccess = false, Error = error };\n",
        "}\n",
        "\n",
        "public Result<List<int>> AreIdentical(List<int> LinkedList1, List<int> LinkedList2)\n",
        "{\n",
        "    NewList.Clear();\n",
        "\n",
        "    int Length1 = LinkedList1.Count;\n",
        "    int Length2 = LinkedList2.Count;\n",
        "\n",
        "    if(Length1 == Length2)\n",
        "    {\n",
        "        for(int i = 0; i < Length1; i++)\n",
        "        {\n",
        "            if(LinkedList1[i] == LinkedList2[i])\n",
        "            {\n",
        "                NewList.Add(LinkedList1[i]);\n",
        "                continue;\n",
        "            }\n",
        "\n",
        "            return Result<List<int>>.Failure(\"Not identical by elements\");\n",
        "        }\n",
        "\n",
        "        return Result<List<int>>.Success(NewList);\n",
        "    }\n",
        "    else\n",
        "    {\n",
        "        return Result<List<int>>.Failure(\"Not identical by length\");\n",
        "    }\n",
        "}\n",
        "\n",
        "var result1 = AreIdentical(LinkedList1, LinkedList2);\n",
        "var result2 = AreIdentical(LinkedList1, LinkedList3);\n",
        "var result3 = AreIdentical(LinkedList1, LinkedList4);\n",
        "var result4 = AreIdentical(LinkedList2, LinkedList3);\n",
        "var result5 = AreIdentical(LinkedList3, LinkedList4);\n",
        "Solution.Add(result1);\n",
        "Solution.Add(result2);\n",
        "Solution.Add(result3);\n",
        "Solution.Add(result4);\n",
        "Solution.Add(result5);\n",
        "\n",
        "foreach(var sol in Solution)\n",
        "{\n",
        "    Console.WriteLine(sol.IsSuccess ? \"Identical\" : sol.Error);\n",
        "}"
      ]
    }
  ],
  "metadata": {
    "kernelspec": {
      "display_name": ".NET (C#)",
      "language": "C#",
      "name": ".net-csharp"
    },
    "language_info": {
      "file_extension": ".cs",
      "mimetype": "text/x-csharp",
      "name": "C#",
      "pygments_lexer": "csharp",
      "version": "8.0"
    },
    "polyglot_notebook": {
      "kernelInfo": {
        "defaultKernelName": "csharp",
        "items": [
          {
            "aliases": [],
            "name": "csharp"
          }
        ]
      }
    }
  },
  "nbformat": 4,
  "nbformat_minor": 4
}
