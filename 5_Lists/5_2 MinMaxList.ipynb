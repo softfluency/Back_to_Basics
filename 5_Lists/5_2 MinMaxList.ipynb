{
 "cells": [
  {
   "cell_type": "markdown",
   "metadata": {},
   "source": [
    "# Find minimum and maximum value from a list of integers\n",
    "### Description\n",
    "Given a list of integers, find minimum and maximum element respectively. The task is to create a method which will return these two elements.\n",
    "## Example 1\n",
    "<pre>\n",
    "<strong>Input:</strong>\n",
    "List: 1->2->3->4->5->6\n",
    "<strong>Output:</strong> 1, 6\n",
    "</pre>\n",
    "## Example 2\n",
    "<pre>\n",
    "<strong>Input:</strong>\n",
    "List2: 99->59->42->20\n",
    "<strong>Output:</strong> 20, 99\n",
    "</pre>\n",
    "### Task\n",
    "The task is to complete the function MinAndMax() which takes the listas an argument and returns minimum and maximum."
   ]
  },
  {
   "cell_type": "code",
   "execution_count": 2,
   "metadata": {
    "dotnet_interactive": {
     "language": "csharp"
    },
    "polyglot_notebook": {
     "kernelName": "csharp"
    },
    "vscode": {
     "languageId": "polyglot-notebook"
    }
   },
   "outputs": [
    {
     "name": "stdout",
     "output_type": "stream",
     "text": [
      "(1, 6)\n",
      "(20, 99)\n",
      "(1, 59)\n",
      "(2, 2)\n",
      "List is empty!\n",
      "\n"
     ]
    }
   ],
   "source": [
    "List<int> LinkedList1 = new() { 1, 2, 3, 4, 5, 6 };\n",
    "List<int> LinkedList2 = new() { 99, 59, 42, 20 };\n",
    "List<int> LinkedList3 = new() { 1, 59, 42, 20, 55, 55 };\n",
    "List<int> LinkedList4 = new() { 2 };\n",
    "List<int> LinkedList5 = new();\n",
    "\n",
    "Console.WriteLine(MinMax(LinkedList1));\n",
    "Console.WriteLine(MinMax(LinkedList2));\n",
    "Console.WriteLine(MinMax(LinkedList3));\n",
    "Console.WriteLine(MinMax(LinkedList4));\n",
    "Console.WriteLine(MinMax(LinkedList5));\n",
    "\n",
    "// O(n)\n",
    "(int min, int max)? MinMax(List<int> LinkedList)\n",
    "{\n",
    "    string listElements = \"\";\n",
    "\n",
    "    int length = LinkedList.Count;\n",
    "\n",
    "    if (length == 0)\n",
    "    {\n",
    "        Console.WriteLine(\"List is empty!\");\n",
    "        return null;\n",
    "    }\n",
    "\n",
    "    int max = LinkedList[0]; \n",
    "    int min = LinkedList[0];\n",
    "\n",
    "    for(int i = 0; i < length; i++)\n",
    "    {                \n",
    "        if (min > LinkedList[i]) \n",
    "            min = LinkedList[i];\n",
    "        \n",
    "        if (max < LinkedList[i]) \n",
    "            max = LinkedList[i];\n",
    "        \n",
    "        listElements += \" \\n\" + LinkedList[i].ToString(); \n",
    "    }                      \n",
    "    return (min, max);\n",
    "}"
   ]
  },
  {
   "cell_type": "code",
   "execution_count": 2,
   "metadata": {
    "dotnet_interactive": {
     "language": "csharp"
    },
    "polyglot_notebook": {
     "kernelName": "csharp"
    },
    "vscode": {
     "languageId": "polyglot-notebook"
    }
   },
   "outputs": [
    {
     "name": "stdout",
     "output_type": "stream",
     "text": [
      "(20, 99)\r\n"
     ]
    }
   ],
   "source": [
    "var x = MinMax(LinkedList2);\n",
    "\n",
    "if(x.HasValue)\n",
    "{\n",
    "    Console.WriteLine(x.Value);\n",
    "}"
   ]
  },
  {
   "cell_type": "code",
   "execution_count": 13,
   "metadata": {
    "dotnet_interactive": {
     "language": "csharp"
    },
    "polyglot_notebook": {
     "kernelName": "csharp"
    },
    "vscode": {
     "languageId": "polyglot-notebook"
    }
   },
   "outputs": [
    {
     "name": "stdout",
     "output_type": "stream",
     "text": [
      "Min=1, Max=6\n",
      "Min=20, Max=99\n",
      "Min=1, Max=59\n",
      "Min=2, Max=8\n",
      "Error: List is Empty!\n",
      "Error: List contains only one element: 4\n"
     ]
    }
   ],
   "source": [
    "// Napraviti klasu ili record koja predstavlja rezultat i overrajduj u ToString metodu\n",
    "\n",
    "#!import Result.cs\n",
    "\n",
    "public class MinMaxDTO\n",
    "{\n",
    "    public int Min { get; set; }\n",
    "    public int Max { get; set; }\n",
    "\n",
    "    public override string ToString()\n",
    "    {\n",
    "       return $\"Min={Min}, Max={Max}\";\n",
    "    } \n",
    "}\n",
    "\n",
    "List<int> LinkedList2 = new() { 99, 59, 42, 20 };\n",
    "List<int> LinkedList3 = new() { 1, 59, 42, 20, 55, 55 };\n",
    "List<int> LinkedList4 = new() { 8, 2, 3, 4, 5, 6 };\n",
    "List<int> LinkedList5 = new();\n",
    "List<int> LinkedList6 = new() { 4 };\n",
    "\n",
    "public Result<MinMaxDTO> MinAndMax(List<int> list)\n",
    "{\n",
    "    if(list.Count == 0)\n",
    "    {\n",
    "        return Result<MinMaxDTO>.Failure(\"List is Empty!\");        \n",
    "    }\n",
    "    else if(list.Count == 1)\n",
    "    {\n",
    "        return Result<MinMaxDTO>.Failure($\"List contains only one element: {list.First()}\");\n",
    "    }\n",
    "    else\n",
    "    {\n",
    "        int min = list.Min();\n",
    "        int max = list.Max(); \n",
    "        \n",
    "        return Result<MinMaxDTO>.Success(new MinMaxDTO(){ Min = min, Max = max });       \n",
    "    }        \n",
    "}\n",
    "\n",
    "Console.WriteLine(MinAndMax(LinkedList1));\n",
    "var res2 = MinAndMax(LinkedList2);\n",
    "Console.WriteLine(res2);\n",
    "Console.WriteLine(MinAndMax(LinkedList3));\n",
    "Console.WriteLine(MinAndMax(LinkedList4));\n",
    "var res5 = MinAndMax(LinkedList5);\n",
    "Console.WriteLine(res5);\n",
    "Console.WriteLine(MinAndMax(LinkedList6));"
   ]
  }
 ],
 "metadata": {
  "language_info": {
   "name": "csharp"
  }
 },
 "nbformat": 4,
 "nbformat_minor": 2
}
