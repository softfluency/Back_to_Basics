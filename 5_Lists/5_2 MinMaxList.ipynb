{
 "cells": [
  {
   "cell_type": "markdown",
   "metadata": {},
   "source": [
    "# Find minimum and maximum value from a list of integers\n",
    "### Description\n",
    "Given a list of integers, find minimum and maximum element respectively. The task is to create a method which will return these two elements.\n",
    "## Example 1\n",
    "<pre>\n",
    "<strong>Input:</strong>\n",
    "List: 1->2->3->4->5->6\n",
    "<strong>Output:</strong> 1, 6\n",
    "</pre>\n",
    "## Example 2\n",
    "<pre>\n",
    "<strong>Input:</strong>\n",
    "List2: 99->59->42->20\n",
    "<strong>Output:</strong> 20, 99\n",
    "</pre>\n",
    "### Task\n",
    "The task is to complete the function MinAndMax() which takes the listas an argument and returns minimum and maximum."
   ]
  },
  {
   "cell_type": "code",
   "execution_count": 2,
   "metadata": {
    "dotnet_interactive": {
     "language": "csharp"
    },
    "polyglot_notebook": {
     "kernelName": "csharp"
    },
    "vscode": {
     "languageId": "polyglot-notebook"
    }
   },
   "outputs": [
    {
     "name": "stdout",
     "output_type": "stream",
     "text": [
      "(1, 6)\n",
      "(20, 99)\n",
      "(1, 59)\n",
      "(2, 2)\n",
      "List is empty!\n",
      "\n"
     ]
    }
   ],
   "source": [
    "List<int> LinkedList1 = new() { 1, 2, 3, 4, 5, 6 };\n",
    "List<int> LinkedList2 = new() { 99, 59, 42, 20 };\n",
    "List<int> LinkedList3 = new() { 1, 59, 42, 20, 55, 55 };\n",
    "List<int> LinkedList4 = new() { 2 };\n",
    "List<int> LinkedList5 = new();\n",
    "\n",
    "Console.WriteLine(MinMax(LinkedList1));\n",
    "Console.WriteLine(MinMax(LinkedList2));\n",
    "Console.WriteLine(MinMax(LinkedList3));\n",
    "Console.WriteLine(MinMax(LinkedList4));\n",
    "Console.WriteLine(MinMax(LinkedList5));\n",
    "\n",
    "(int min, int max)? MinMax(List<int> LinkedList)\n",
    "{\n",
    "    string listElements = \"\";\n",
    "\n",
    "    int length = LinkedList.Count;\n",
    "\n",
    "    if (length == 0)\n",
    "    {\n",
    "        Console.WriteLine(\"List is empty!\");\n",
    "        return null;\n",
    "    }\n",
    "\n",
    "    int max = LinkedList[0]; \n",
    "    int min = LinkedList[0];\n",
    "\n",
    "    for(int i = 0; i < length; i++)\n",
    "    {                \n",
    "        if (min > LinkedList[i]) \n",
    "            min = LinkedList[i];\n",
    "        \n",
    "        if (max < LinkedList[i]) \n",
    "            max = LinkedList[i];\n",
    "        \n",
    "        listElements += \" \\n\" + LinkedList[i].ToString(); \n",
    "    }                      \n",
    "    return (min, max);\n",
    "}"
   ]
  },
  {
   "cell_type": "code",
   "execution_count": 2,
   "metadata": {
    "dotnet_interactive": {
     "language": "csharp"
    },
    "polyglot_notebook": {
     "kernelName": "csharp"
    },
    "vscode": {
     "languageId": "polyglot-notebook"
    }
   },
   "outputs": [
    {
     "name": "stdout",
     "output_type": "stream",
     "text": [
      "(20, 99)\r\n"
     ]
    }
   ],
   "source": [
    "var x = MinMax(LinkedList2);\n",
    "\n",
    "if(x.HasValue)\n",
    "{\n",
    "    Console.WriteLine(x.Value);\n",
    "}"
   ]
  },
  {
   "cell_type": "code",
   "execution_count": 8,
   "metadata": {
    "dotnet_interactive": {
     "language": "csharp"
    },
    "polyglot_notebook": {
     "kernelName": "csharp"
    },
    "vscode": {
     "languageId": "polyglot-notebook"
    }
   },
   "outputs": [
    {
     "name": "stdout",
     "output_type": "stream",
     "text": [
      "Testing list:\n",
      "1 2 3 4 5 6 \n",
      "framework methods: min=1, max=6 - our method min=1, max=6\n",
      "True\n",
      "Testing list:\n",
      "99 59 42 20 \n",
      "framework methods: min=20, max=99 - our method min=20, max=99\n",
      "True\n",
      "Testing list:\n",
      "1 59 42 20 55 55 \n",
      "framework methods: min=1, max=59 - our method min=1, max=59\n",
      "True\n",
      "Testing list:\n",
      "8 2 3 4 5 6 \n",
      "framework methods: min=2, max=8 - our method min=2, max=8\n",
      "True\n",
      "Testing list:\n",
      "Empty list!\n",
      "framework methods: min=0, max=0 - our method min=0, max=0\n",
      "True\n",
      "Testing list:\n",
      "4 \n",
      "framework methods: min=4, max=4 - our method min=4, max=4\n",
      "True\n"
     ]
    }
   ],
   "source": [
    "// Compare results from  our method and framework method\n",
    "\n",
    "List<int> LinkedList1 = new() { 1, 2, 3, 4, 5, 6 };\n",
    "List<int> LinkedList2 = new() { 99, 59, 42, 20 };\n",
    "List<int> LinkedList3 = new() { 1, 59, 42, 20, 55, 55 };\n",
    "List<int> LinkedList4 = new() { 8, 2, 3, 4, 5, 6 };\n",
    "List<int> LinkedList5 = new();\n",
    "List<int> LinkedList6 = new() { 4 };\n",
    "\n",
    "// Our method\n",
    "List<int> MinMaxO(List<int> LinkedList)\n",
    "{\n",
    "    string listElements = \"\";\n",
    "    int length = LinkedList.Count;\n",
    "    List<int> MinMaxResultsO = new();\n",
    "\n",
    "    MinMaxResultsO.Add(length);\n",
    "      \n",
    "    if (length == 0)\n",
    "    {\n",
    "        return MinMaxResultsO;\n",
    "    }\n",
    "\n",
    "    int max = LinkedList[0]; \n",
    "    int min = LinkedList[0];\n",
    "    \n",
    "    for(int i = 0; i < length; i++)\n",
    "    {\n",
    "        if (min > LinkedList[i])\n",
    "            min = LinkedList[i];\n",
    "\n",
    "        if (max < LinkedList[i]) \n",
    "            max = LinkedList[i];\n",
    "\n",
    "        listElements += \" \\n\" + LinkedList[i].ToString();\n",
    "    }\n",
    "\n",
    "    MinMaxResultsO.Add(min);\n",
    "    MinMaxResultsO.Add(max);\n",
    " \n",
    "    return MinMaxResultsO;\n",
    "}\n",
    "\n",
    "List<List<int>> Lists = new() { LinkedList1, LinkedList2, LinkedList3, LinkedList4, LinkedList5, LinkedList6 };\n",
    "\n",
    "foreach (List<int> list in Lists) { TestMethodsComparison(list); }\n",
    "\n",
    "public bool TestMethodsComparison(List<int> list)\n",
    "{\n",
    "    bool result = false; \n",
    "    int minF = 0, maxF = 0;\n",
    "    int minO, maxO;\n",
    "\n",
    "    List<int> MinMaxRes = MinMaxO(list);\n",
    "    {\n",
    "        Console.WriteLine(\"Testing list:\");\n",
    "\n",
    "        foreach(var listElement in list)\n",
    "        {\n",
    "            Console.Write(listElement.ToString() + \" \");\n",
    "        }\n",
    "       \n",
    "        if(list.Count > 0)\n",
    "        {\n",
    "            minF = list.Min();\n",
    "            minO = MinMaxRes[1];\n",
    "            maxF = list.Max();\n",
    "            maxO = MinMaxRes[2];                        \n",
    "        }\n",
    "        else\n",
    "        {\n",
    "            minO = 0;\n",
    "            maxO = 0;\n",
    "            Console.Write(\"Empty list!\");\n",
    "        }\n",
    "\n",
    "        if((minF == minO) && (maxF == maxO))\n",
    "        {\n",
    "            result = true;            \n",
    "            Console.WriteLine ($\"\\nframework methods: min={minF}, max={maxF} - our method min={minO}, max={maxO}\");\n",
    "        }\n",
    "        \n",
    "        if(result)\n",
    "            Console.WriteLine(result);\n",
    "\n",
    "        else \n",
    "            Console.WriteLine(\"List is empty!\");\n",
    "\n",
    "        return result;  \n",
    "    }  \n",
    "}"
   ]
  },
  {
   "cell_type": "code",
   "execution_count": 14,
   "metadata": {
    "dotnet_interactive": {
     "language": "csharp"
    },
    "polyglot_notebook": {
     "kernelName": "csharp"
    },
    "vscode": {
     "languageId": "polyglot-notebook"
    }
   },
   "outputs": [
    {
     "name": "stdout",
     "output_type": "stream",
     "text": [
      "Min=1, Max=6\n",
      "Min=20, Max=99\n",
      "Min=1, Max=59\n",
      "Min=2, Max=8\n",
      "List is Empty!\n",
      "List contains only one element: 4\n"
     ]
    }
   ],
   "source": [
    "// Napraviti klasu ili record koja predstavlja rezultat i overrajduj u ToString metodu\n",
    "\n",
    "public class Result<T>\n",
    "{\n",
    "    public bool IsSuccess { get; set; }\n",
    "    public T Value { get; set; }\n",
    "    public string Error { get; set; }\n",
    "   \n",
    "    public static Result<T> Success(T value) => new Result<T> { IsSuccess = true, Value = value };\n",
    "    public static Result<T> Failure(string error) => new Result<T> { IsSuccess = false, Error = error };\n",
    "    \n",
    "    public override string  ToString()\n",
    "    {\n",
    "        if(IsSuccess)\n",
    "            return Value.ToString();\n",
    "        else \n",
    "            return Error;\n",
    "    }\n",
    "}\n",
    "\n",
    "public class MinMaxDTO\n",
    "{\n",
    "    public int Min { get; set; }\n",
    "    public int Max { get; set; }\n",
    "\n",
    "    public override string ToString()\n",
    "    {\n",
    "       return $\"Min={Min}, Max={Max}\";\n",
    "    } \n",
    "}\n",
    "\n",
    "List<int> LinkedList2 = new() { 99, 59, 42, 20 };\n",
    "List<int> LinkedList3 = new() { 1, 59, 42, 20, 55, 55 };\n",
    "List<int> LinkedList4 = new() { 8, 2, 3, 4, 5, 6 };\n",
    "List<int> LinkedList5 = new();\n",
    "List<int> LinkedList6 = new() { 4 };\n",
    "\n",
    "public Result<MinMaxDTO> MinAndMax(List<int> list)\n",
    "{\n",
    "    if(list.Count == 0)\n",
    "    {\n",
    "        return Result<MinMaxDTO>.Failure(\"List is Empty!\");        \n",
    "    }\n",
    "    else if(list.Count == 1)\n",
    "    {\n",
    "        return Result<MinMaxDTO>.Failure($\"List contains only one element: {list.First()}\");\n",
    "    }\n",
    "    else\n",
    "    {\n",
    "        int min = list.Min();\n",
    "        int max = list.Max(); \n",
    "        \n",
    "        return Result<MinMaxDTO>.Success(new MinMaxDTO(){ Min = min, Max = max });       \n",
    "    }        \n",
    "}\n",
    "\n",
    "Console.WriteLine(MinAndMax(LinkedList1));\n",
    "var res2 = MinAndMax(LinkedList2);\n",
    "Console.WriteLine(res2);\n",
    "Console.WriteLine(MinAndMax(LinkedList3));\n",
    "Console.WriteLine(MinAndMax(LinkedList4));\n",
    "var res5 = MinAndMax(LinkedList5);\n",
    "Console.WriteLine(res5);\n",
    "Console.WriteLine(MinAndMax(LinkedList6));"
   ]
  }
 ],
 "metadata": {
  "language_info": {
   "name": "csharp"
  }
 },
 "nbformat": 4,
 "nbformat_minor": 2
}
