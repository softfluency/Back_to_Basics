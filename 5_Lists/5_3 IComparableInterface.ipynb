{
 "cells": [
  {
   "cell_type": "code",
   "execution_count": 11,
   "metadata": {
    "dotnet_interactive": {
     "language": "csharp"
    },
    "polyglot_notebook": {
     "kernelName": "csharp"
    },
    "vscode": {
     "languageId": "polyglot-notebook"
    }
   },
   "outputs": [
    {
     "name": "stdout",
     "output_type": "stream",
     "text": [
      "6F = -14.444444444444445C\n",
      "8F = -13.333333333333334C\n",
      "20F = -6.666666666666667C\n",
      "25F = -3.8888888888888893C\n",
      "27F = -2.7777777777777777C\n",
      "30F = -1.1111111111111112C\n",
      "35F = 1.6666666666666667C\n",
      "38F = 3.3333333333333335C\n",
      "48F = 8.88888888888889C\n",
      "96F = 35.55555555555556C\n"
     ]
    }
   ],
   "source": [
    "public class Temperature : IComparable\n",
    "{\n",
    "   protected double temperatureF;\n",
    "\n",
    "    public int CompareTo(object obj) {\n",
    "        if (obj == null) return 1;\n",
    "\n",
    "        Temperature otherTemperature = obj as Temperature;\n",
    "        if (otherTemperature != null)\n",
    "            return this.temperatureF.CompareTo(otherTemperature.temperatureF);\n",
    "        else\n",
    "           throw new ArgumentException(\"Object is not a Temperature\");\n",
    "    }\n",
    "\n",
    "    public double Fahrenheit\n",
    "    {\n",
    "        get\n",
    "        {\n",
    "            return this.temperatureF;\n",
    "        }\n",
    "        set \n",
    "        {\n",
    "            this.temperatureF = value;\n",
    "        }\n",
    "    }\n",
    "\n",
    "    public double Celsius\n",
    "    {\n",
    "        get\n",
    "        {\n",
    "            return (this.temperatureF - 32) * (5.0/9);\n",
    "        }\n",
    "        set\n",
    "        {\n",
    "            this.temperatureF = (value * 9.0/5) + 32;\n",
    "        }\n",
    "    }\n",
    "}\n",
    "\n",
    "void CompareTemperatures()\n",
    "{\n",
    "       List<object> temperatures = new List<object>();\n",
    "      // Initialize random number generator.\n",
    "      Random rnd = new Random();\n",
    "\n",
    "      // Generate 10 temperatures between 0 and 100 randomly.\n",
    "      for (int ctr = 1; ctr <= 10; ctr++)\n",
    "      {\n",
    "         var degrees = rnd.Next(0, 100);\n",
    "         Temperature temp = new Temperature();\n",
    "         temp.Fahrenheit = degrees;\n",
    "         temperatures.Add(temp);\n",
    "      }\n",
    "\n",
    "      // Sort ArrayList.\n",
    "      temperatures.Sort();\n",
    "\n",
    "      foreach (Temperature temp in temperatures)\n",
    "       {\n",
    "         Console.Write(temp.Fahrenheit + \"F = \");\n",
    "         Console.WriteLine(temp.Celsius + \"C\");\n",
    "       }\n",
    "    \n",
    "}\n",
    "CompareTemperatures();"
   ]
  },
  {
   "cell_type": "code",
   "execution_count": 13,
   "metadata": {
    "dotnet_interactive": {
     "language": "csharp"
    },
    "polyglot_notebook": {
     "kernelName": "csharp"
    },
    "vscode": {
     "languageId": "polyglot-notebook"
    }
   },
   "outputs": [
    {
     "ename": "Error",
     "evalue": "(3,25): error CS0736: 'Employee' does not implement instance interface member 'IComparable.CompareTo(object?)'. 'Employee.CompareTo(object)' cannot implement the interface member because it is static.\r\n(26,14): error CS0026: Keyword 'this' is not valid in a static property, static method, or static field initializer",
     "output_type": "error",
     "traceback": [
      "(3,25): error CS0736: 'Employee' does not implement instance interface member 'IComparable.CompareTo(object?)'. 'Employee.CompareTo(object)' cannot implement the interface member because it is static.\r\n",
      "(26,14): error CS0026: Keyword 'this' is not valid in a static property, static method, or static field initializer"
     ]
    }
   ],
   "source": [
    "// C# program to demonstrate how to \n",
    "// implement IComparable interface  \n",
    "public class Employee : IComparable\n",
    "{ \n",
    "      \n",
    "public int ID; \n",
    "public string EmployeeName; \n",
    "  \n",
    "// Employee constructor \n",
    "public Employee(int id, string employeename) \n",
    "{ \n",
    "    this.ID = id; \n",
    "    this.EmployeeName = employeename; \n",
    "} \n",
    "  \n",
    "// Implementation of the CompareTo() method which takes \n",
    "// an object as an input and return integer value depending on \n",
    "// the comparison between current object and incoming object, \n",
    "public int CompareTo(object incomingobject) \n",
    "{ \n",
    "      \n",
    "      // Storing incoming object in temp variable of  \n",
    "      // current class type \n",
    "      Employee incomingemployee = incomingobject as Employee; \n",
    "    \n",
    "      return this.ID.CompareTo(incomingemployee.ID); \n",
    "} \n",
    "}\n",
    "\n",
    "void GFG()\n",
    "{       \n",
    "    // Create an array of employees  \n",
    "    // using collection initializer \n",
    "    Employee[] employees = new Employee[] \n",
    "    { \n",
    "        new Employee(1, \"Piter\"), \n",
    "        new Employee(5, \"Soniya\"), \n",
    "        new Employee(3, \"Roger\"), \n",
    "        new Employee(2, \"Monique\"), \n",
    "        new Employee(4, \"Rich\") \n",
    "    }; \n",
    "      \n",
    "    // Displaying the employee's array before sorting \n",
    "    Console.WriteLine(\"Before sorting employees array\"); \n",
    "    foreach(var emp in employees) \n",
    "    { \n",
    "          Console.WriteLine(\"ID - {0}, Employee Name - {1}\", emp.ID, emp.EmployeeName); \n",
    "    } \n",
    "      \n",
    "    // Sorts the employees array in ascending  \n",
    "    // order on basis of id of the employee \n",
    "    Array.Sort(employees);    \n",
    "        \n",
    "    Console.WriteLine(); \n",
    "        \n",
    "    // Printing the employee's array after sorting \n",
    "    Console.WriteLine(\"After sorting employees array\"); \n",
    "    foreach(var emp in employees) \n",
    "    { \n",
    "          Console.WriteLine(\"ID - {0}, Employee Name - {1}\",   \n",
    "                            emp.ID, emp.EmployeeName); \n",
    "    } \n",
    " \n",
    "} \n",
    "  \n",
    "// Implementing IComparable interface \n",
    "GFG();"
   ]
  }
 ],
 "metadata": {
  "language_info": {
   "name": "csharp"
  }
 },
 "nbformat": 4,
 "nbformat_minor": 2
}
